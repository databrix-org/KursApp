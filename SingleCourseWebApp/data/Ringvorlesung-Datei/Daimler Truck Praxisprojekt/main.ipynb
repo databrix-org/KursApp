{
 "cells": [
  {
   "cell_type": "markdown",
   "id": "7fc68d71-ed49-4c9c-9c51-88bc318adb32",
   "metadata": {
    "deletable": false,
    "editable": false,
    "nbgrader": {
     "cell_type": "markdown",
     "checksum": "11b9c476417642640791088aa061c9bc",
     "grade": false,
     "grade_id": "cell-b502d841721019b3",
     "locked": true,
     "schema_version": 3,
     "solution": false,
     "task": false
    }
   },
   "source": [
    "<div style=\"padding: 10px; border: 2px solid green; background-color: #ccffcc; color: darkgreen; font-size: 16px;\">\n",
    "  <strong>Achtung:</strong> Wenn Sie die Bearbeitung dieser Aufgabe erneut aufnehmen, dann führen Sie bitte immer alle Codezellen, angefangen bei 'Bibliotheken (Libraries) importieren', erneut aus!\n",
    "</div>"
   ]
  },
  {
   "cell_type": "code",
   "execution_count": null,
   "id": "329a3f0c-a395-45b7-a6fa-36300a0ff2b0",
   "metadata": {
    "deletable": false,
    "editable": false,
    "nbgrader": {
     "cell_type": "code",
     "checksum": "56db48a8c93defdc17b887d8aebd2125",
     "grade": false,
     "grade_id": "cell-6c213b95c18265b4",
     "locked": true,
     "schema_version": 3,
     "solution": false,
     "task": false
    }
   },
   "outputs": [],
   "source": [
    "import warnings\n",
    "warnings.simplefilter(action='ignore', category=FutureWarning)\n",
    "from database import Database\n",
    "import pandas as pd\n",
    "import plotly.express as px"
   ]
  },
  {
   "cell_type": "code",
   "execution_count": null,
   "id": "799810eb-f36b-4926-bc74-2caed6cedee1",
   "metadata": {
    "deletable": false,
    "editable": false,
    "nbgrader": {
     "cell_type": "code",
     "checksum": "37533adc803bfd1c93df3aa8591528f4",
     "grade": false,
     "grade_id": "cell-d5c3d6ed807f08d6",
     "locked": true,
     "schema_version": 3,
     "solution": false,
     "task": false
    }
   },
   "outputs": [],
   "source": [
    "class ETL:\n",
    "    final_table = pd.DataFrame()\n",
    "\n",
    "    def __init__(self, database: Database = None):\n",
    "        self.database = database\n",
    "        self.tables = None\n",
    "        self.df_final_table = None\n",
    "\n",
    "    def extract(self):\n",
    "        self.database.load()\n",
    "        self.tables = self.database.tables\n",
    "\n",
    "    def transform(self):\n",
    "        df_vehicle_details = pd.merge(self.tables[\"h_vehicle\"],\n",
    "                                      self.tables[\"l_vehicle_sales_code\"],\n",
    "                                      left_on=\"h_vehicle_hash\",\n",
    "                                      right_on=\"h_vehicle_hash\",\n",
    "                                      how=\"left\")\n",
    "        df_vehicle_details = pd.merge(df_vehicle_details,\n",
    "                                      self.tables[\"h_sales_code\"],\n",
    "                                      left_on=\"h_sales_code_hash\",\n",
    "                                      right_on=\"h_sales_code_hash\",\n",
    "                                      how=\"left\")\n",
    "        df_vehicle_details = pd.merge(df_vehicle_details,\n",
    "                                      self.tables[\"s_vehicle_axle_details\"],\n",
    "                                      left_on=\"h_vehicle_hash\",\n",
    "                                      right_on=\"h_vehicle_hash\",\n",
    "                                      how=\"left\")\n",
    "        df_vehicle_details = pd.merge(df_vehicle_details,\n",
    "                                      self.tables[\"vedoc_asa\"],\n",
    "                                      left_on=\"fin\",\n",
    "                                      right_on=\"fin\",\n",
    "                                      how=\"left\")\n",
    "        self.df_final_table = df_vehicle_details.drop(columns=[\"h_vehicle_hash\", \"h_sales_code_hash\"])\n",
    "        print(\"transformation completed\")\n",
    "\n",
    "    def load(self):\n",
    "        pass\n",
    "\n",
    "    def run(self):\n",
    "        self.extract()\n",
    "        self.clean_raw_data()\n",
    "        self.transform()\n",
    "        self.load()\n",
    "        return self.df_final_table\n",
    "\n",
    "    def clean_raw_data(self):\n",
    "        self.drop_unnamed_columns()\n",
    "        self.remove_invalid_fins()\n",
    "\n",
    "    def drop_unnamed_columns(self):\n",
    "        for table_name, table in self.tables.items():\n",
    "            self.tables[table_name] = self.tables[table_name].drop(columns=[\"Unnamed: 0\"])\n",
    "\n",
    "    def remove_invalid_fins(self):\n",
    "        df = self.tables[\"h_vehicle\"]\n",
    "        df = df[df[\"fin\"].astype(str).map(len) == 17]\n",
    "        self.tables[\"h_vehicle\"] = df"
   ]
  },
  {
   "cell_type": "code",
   "execution_count": null,
   "id": "35455dd2-68eb-4e85-8fb2-a33dace5ce09",
   "metadata": {
    "deletable": false,
    "editable": false,
    "nbgrader": {
     "cell_type": "code",
     "checksum": "10a3587c7d7a32a9a00f92cf2f3ae590",
     "grade": false,
     "grade_id": "cell-ddcbfe4ca7e8d323",
     "locked": true,
     "schema_version": 3,
     "solution": false,
     "task": false
    }
   },
   "outputs": [],
   "source": [
    "class VehicleDetailsAnalyzer:\n",
    "    def __init__(self, df_vehicle_details: pd.DataFrame = None):\n",
    "        self.countries = {\"ger\": 254, \"fr\": 561, \"es\": 649, \"uk\": 268, \"us\": 768}\n",
    "        self.df_vehicle_details = df_vehicle_details\n",
    "        self.df_vehicle_unique = None\n",
    "\n",
    "    def run(self):\n",
    "        self.preprocess_data()\n",
    "        self.visualize()\n",
    "\n",
    "    def preprocess_data(self):\n",
    "        self.df_vehicle_details[\"prod_dt\"] = pd.to_datetime(self.df_vehicle_details[\"prod_dt\"])\n",
    "        self.df_vehicle_details[\"prod_year\"] = self.df_vehicle_details[\"prod_dt\"].dt.year\n",
    "        self.df_vehicle_details[\"prod_month\"] = self.df_vehicle_details[\"prod_dt\"].dt.month\n",
    "        self.df_vehicle_unique = self.df_vehicle_details.drop_duplicates(\"fin\")\n",
    "\n",
    "    def visualize(self):\n",
    "        self.plot_production_number_over_years()\n",
    "        self.plot_production_number_over_years_per_sales_area()\n",
    "        self.plot_engine_over_sales_area()\n",
    "\n",
    "    def plot_engine_over_sales_area(self):\n",
    "        df = self.df_vehicle_details\n",
    "        df = df[df[\"sales_code\"] == \"Z5E\"]\n",
    "        df = df.groupby(\"sales_area_nm\").count()\n",
    "        df = df[df.index.isin(self.countries.values())]\n",
    "        df = df.rename(index={value: key for key, value in self.countries.items()})\n",
    "        px.pie(data_frame=df, names=df.index, values=\"fin\",\n",
    "               title=\"production with OM471 over sales countries\").show()\n",
    "\n",
    "    def plot_production_number_over_years_per_sales_area(self):\n",
    "        df = self.df_vehicle_unique\n",
    "        df_final = pd.DataFrame()\n",
    "        for country, area_nm in self.countries.items():\n",
    "            df_tmp = df[df[\"sales_area_nm\"] == area_nm]\n",
    "            df_final[country] = df_tmp.groupby(\"prod_year\").count()[\"fin\"]\n",
    "        fig = (px.bar(data_frame=df_final, x=df_final.index, y=df_final.columns, barmode='group',\n",
    "                      title=\"production over year per sales country\",\n",
    "                      labels={\"value\": \"number of production\",\n",
    "                              \"prod_year\": \"production year\",\n",
    "                              \"variable\": \"country\"}))\n",
    "        fig.update_yaxes(range=[5, None])\n",
    "        fig.show()\n",
    "\n",
    "    def plot_production_number_over_years(self):\n",
    "        df = self.df_vehicle_unique\n",
    "        df = df[(df['prod_year'] >= 2015) & (df['prod_year'] <= 2022)]\n",
    "        df = df.groupby(\"prod_year\").count()\n",
    "        fig = px.bar(data_frame=df, x=df.index, y=\"fin\",\n",
    "                     title=\"production over year\",\n",
    "                     labels={\"fin\": \"number of production\",\n",
    "                             \"prod_year\": \"production year\"})\n",
    "        fig.update_yaxes(range=[3500, 4000])\n",
    "        fig.show()"
   ]
  },
  {
   "cell_type": "code",
   "execution_count": null,
   "id": "3fff142b-b7e6-4b36-abf3-674b0e77d2f4",
   "metadata": {
    "deletable": false,
    "nbgrader": {
     "cell_type": "code",
     "checksum": "663183602c4c8dcf28827639cd951533",
     "grade": true,
     "grade_id": "cell-ab3319a32fccc0e2",
     "locked": false,
     "points": 5,
     "schema_version": 3,
     "solution": true,
     "task": false
    }
   },
   "outputs": [],
   "source": [
    "# YOUR CODE HERE\n",
    "raise NotImplementedError()"
   ]
  },
  {
   "cell_type": "code",
   "execution_count": null,
   "id": "8fd0df9b-304c-45b6-a274-e64e8dd9d9be",
   "metadata": {
    "deletable": false,
    "nbgrader": {
     "cell_type": "code",
     "checksum": "0d467e4c4f15ed105a0d4a30e60643ad",
     "grade": true,
     "grade_id": "cell-1420d73414553213",
     "locked": false,
     "points": 5,
     "schema_version": 3,
     "solution": true,
     "task": false
    }
   },
   "outputs": [],
   "source": [
    "# YOUR CODE HERE\n",
    "raise NotImplementedError()"
   ]
  }
 ],
 "metadata": {
  "kernelspec": {
   "display_name": "DHBW-Kurs",
   "language": "python",
   "name": "dhbw-kurs"
  },
  "language_info": {
   "codemirror_mode": {
    "name": "ipython",
    "version": 3
   },
   "file_extension": ".py",
   "mimetype": "text/x-python",
   "name": "python",
   "nbconvert_exporter": "python",
   "pygments_lexer": "ipython3",
   "version": "3.11.6"
  }
 },
 "nbformat": 4,
 "nbformat_minor": 5
}
