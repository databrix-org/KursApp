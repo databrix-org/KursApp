{
 "cells": [
  {
   "cell_type": "markdown",
   "id": "d986713c-b0e3-49db-87ef-d9b48dd3ac77",
   "metadata": {
    "deletable": false,
    "editable": false,
    "nbgrader": {
     "cell_type": "markdown",
     "checksum": "928adcbb9430c5b700d9d5bec70d43e0",
     "grade": false,
     "grade_id": "cell-aefd837cf5e92dbf",
     "locked": true,
     "schema_version": 3,
     "solution": false,
     "task": false
    }
   },
   "source": [
    "<div style=\"padding: 10px; border: 2px solid green; background-color: #ccffcc; color: darkgreen; font-size: 16px;\">\n",
    "  <strong>Achtung:</strong> Wenn Sie die Bearbeitung dieser Aufgabe erneut aufnehmen, dann führen Sie bitte immer alle Codezellen, angefangen bei 'Bibliotheken (Libraries) importieren', erneut aus!\n",
    "</div>"
   ]
  },
  {
   "cell_type": "code",
   "execution_count": null,
   "id": "a9871d5d-4764-4df9-82b8-39595ed0e34d",
   "metadata": {
    "deletable": false,
    "editable": false,
    "nbgrader": {
     "cell_type": "code",
     "checksum": "6bea78f879e50bf690ec63d19bfd62ff",
     "grade": false,
     "grade_id": "cell-cd390dfa48fc0a96",
     "locked": true,
     "schema_version": 3,
     "solution": false,
     "task": false
    }
   },
   "outputs": [],
   "source": [
    "import plotly.express as px\n",
    "import pandas as pd\n",
    "from load_data import read_citycar_data\n",
    "from funnel_function import _ride_request_details_filter, _common_stages, _percentage, _to_dataframe"
   ]
  },
  {
   "cell_type": "code",
   "execution_count": null,
   "id": "b5295bf4-ec52-4ab5-adbd-9573f2a1ce5b",
   "metadata": {
    "deletable": false,
    "nbgrader": {
     "cell_type": "code",
     "checksum": "57f5d2896bbbab8a7c15bb163ee90865",
     "grade": true,
     "grade_id": "cell-7146437bca7f4072",
     "locked": false,
     "points": 0,
     "schema_version": 3,
     "solution": true,
     "task": false
    }
   },
   "outputs": [],
   "source": [
    "def customer_funnel(database: str = \"data\") -> pd.DataFrame:\n",
    "    (df_app_downloads,\n",
    "     df_signups,\n",
    "     df_ride_requests,\n",
    "     df_transactions,\n",
    "     df_reviews) = read_citycar_data()\n",
    "    \n",
    "    '''\n",
    "    Create the first two stages of the customer funnel within a dictionary\n",
    "    -> create dictionary with key \"app_downloads\" and value number of unique app downloads\n",
    "    -> add item with key signups and value number of unique signups \n",
    "\n",
    "    Create final funnel dictionary\n",
    "    -> use the _common_stages function to create the final funnel dictionary\n",
    "    '''\n",
    "    # YOUR CODE HERE\n",
    "    raise NotImplementedError()\n",
    "    return df_funnel"
   ]
  },
  {
   "cell_type": "code",
   "execution_count": null,
   "id": "5d17c92c-6600-4d14-9207-3efe6a9e7cdd",
   "metadata": {
    "deletable": false,
    "nbgrader": {
     "cell_type": "code",
     "checksum": "148656eafb3d92ffb7cbeac73e062408",
     "grade": true,
     "grade_id": "cell-9de7461cc4c2de42",
     "locked": false,
     "points": 0,
     "schema_version": 3,
     "solution": true,
     "task": false
    }
   },
   "outputs": [],
   "source": [
    "def customer_funnel_by_platform(platform: str = \"ios\", database: str = \"data\") -> pd.DataFrame:\n",
    "    (df_app_downloads,\n",
    "     df_signups,\n",
    "     df_ride_requests,\n",
    "     df_transactions,\n",
    "     df_reviews) = read_citycar_data()\n",
    "    \"\"\"\n",
    "    Create the first two stages of the customer funnel within a dictionary\n",
    "    -> create dictionary with key \"app_downloads\" and value number of unique app downloads for given platform\n",
    "    -> add item with key signups and value number of unique signups for given platform\n",
    "\n",
    "    Create df_ride_requests_details pandas datafram\n",
    "    -> use the _ride_request_details_filter function to create the df_ride_requests_details variable (pandas dataframe) for the given platform\n",
    "\n",
    "    Create final funnel dictionary\n",
    "    -> use the _common_stages function to create the final funnel dictionary\n",
    "\n",
    "    Create df_funnel pandas dataframe\n",
    "    -> use the _to_dataframe function to create the final df_funnel pandas dataframe for given platform\n",
    "    \"\"\"                    \n",
    "    # YOUR CODE HERE\n",
    "    raise NotImplementedError()\n",
    "    return df_funnel"
   ]
  },
  {
   "cell_type": "code",
   "execution_count": null,
   "id": "cf0ad773-b8cc-478f-9295-63ff7e327cff",
   "metadata": {
    "deletable": false,
    "nbgrader": {
     "cell_type": "code",
     "checksum": "6b7b6f4ba00563156b3ed977d91c3d57",
     "grade": true,
     "grade_id": "cell-814e2209b57095ba",
     "locked": false,
     "points": 0,
     "schema_version": 3,
     "solution": true,
     "task": false
    }
   },
   "outputs": [],
   "source": [
    "def customer_funnel_by_age_range(age_range: str = \"18-24\", database: str = \"data\") -> pd.DataFrame:\n",
    "    (_,\n",
    "     df_signups,\n",
    "     df_ride_requests,\n",
    "     df_transactions,\n",
    "     df_reviews) = read_citycar_data()\n",
    "\n",
    "    '''\n",
    "    Create the first two stages of the customer funnel within a dictionary\n",
    "    -> create dictionary with key \"signups\" and value number of unique signups for given age_range\n",
    "\n",
    "    Create df_ride_requests_details pandas datafram\n",
    "    -> use the _ride_request_details_filter function to create the df_ride_requests_details variable (pandas dataframe) for the given age_range\n",
    "\n",
    "    Create final funnel dictionary\n",
    "    -> use the _common_stages function to create the final funnel dictionary\n",
    "\n",
    "    Create df_funnel pandas dataframe\n",
    "    -> use the _to_dataframe function to create the final df_funnel pandas dataframe for given age_range\n",
    "    \n",
    "    '''\n",
    "    # YOUR CODE HERE\n",
    "    raise NotImplementedError()\n",
    "    return df_funnel\n",
    "df_test = customer_funnel_by_age_range()"
   ]
  },
  {
   "cell_type": "markdown",
   "id": "6cd97eeb-3636-4218-a5cb-58899564b317",
   "metadata": {
    "deletable": false,
    "editable": false,
    "nbgrader": {
     "cell_type": "markdown",
     "checksum": "cdd13f1ee3ba685c058f30d20472ce0f",
     "grade": false,
     "grade_id": "cell-f3acc47bc644957f",
     "locked": true,
     "schema_version": 3,
     "solution": false,
     "task": false
    }
   },
   "source": [
    "# Business Question 1\n",
    "Visulaize the initial customer funnel with pandas and plotly. Use the funnel function from the plotly package."
   ]
  },
  {
   "cell_type": "code",
   "execution_count": null,
   "id": "f5c9ffda-05c3-4aee-9224-5db59640775f",
   "metadata": {
    "deletable": false,
    "nbgrader": {
     "cell_type": "code",
     "checksum": "173e0f0cf97f00c87287094f67c384ff",
     "grade": true,
     "grade_id": "cell-dded9f91e3cd07a6",
     "locked": false,
     "points": 0,
     "schema_version": 3,
     "solution": true,
     "task": false
    }
   },
   "outputs": [],
   "source": [
    "df = customer_funnel()\n",
    "\n",
    "'''\n",
    "-> create the plotly figure with given dataframe df, x as \"values\", y as \"stages\", text as \"percentage\"\n",
    "-> show the figure\n",
    "'''\n",
    "# YOUR CODE HERE\n",
    "raise NotImplementedError()"
   ]
  },
  {
   "cell_type": "markdown",
   "id": "7a0336bd-200d-4986-9362-765d9887e11e",
   "metadata": {
    "deletable": false,
    "editable": false,
    "nbgrader": {
     "cell_type": "markdown",
     "checksum": "d1d3bada7858288f9f110e7475b8708f",
     "grade": false,
     "grade_id": "cell-7e2aec93087f4576",
     "locked": true,
     "schema_version": 3,
     "solution": false,
     "task": false
    }
   },
   "source": [
    "# Business Question 2\n",
    "Visulaize the customer funnel with respect to the platforms ios android and web using pandas and plotly. Use the funnel function from the plotly package."
   ]
  },
  {
   "cell_type": "code",
   "execution_count": null,
   "id": "15757f16-e466-4bde-9738-4b6f8ec2df37",
   "metadata": {
    "deletable": false,
    "nbgrader": {
     "cell_type": "code",
     "checksum": "8c61d13f4cbf8c094ae5742ba3d0e31c",
     "grade": true,
     "grade_id": "cell-aebb16bda91996ca",
     "locked": false,
     "points": 0,
     "schema_version": 3,
     "solution": true,
     "task": false
    }
   },
   "outputs": [],
   "source": [
    "df_list = [customer_funnel_by_platform(platform=pf) for pf in [\"ios\", \"android\", \"web\"]]\n",
    "df = pd.concat(df_list)\n",
    "\n",
    "'''\n",
    "-> create the plotly figure with given dataframe df, x as \"values\", y as \"stages\", color as \"platform\", text as \"percentage\"\n",
    "-> show the figure\n",
    "'''\n",
    "# YOUR CODE HERE\n",
    "raise NotImplementedError()"
   ]
  },
  {
   "cell_type": "markdown",
   "id": "bf139412-1053-425e-ad6d-e3f60ab18b5a",
   "metadata": {
    "deletable": false,
    "editable": false,
    "nbgrader": {
     "cell_type": "markdown",
     "checksum": "8341c5f6dd66ec4422930b554d36ca73",
     "grade": false,
     "grade_id": "cell-093f368e55ee3ce6",
     "locked": true,
     "schema_version": 3,
     "solution": false,
     "task": false
    }
   },
   "source": [
    "# Business Question 3\n",
    "Visulaize the customer funnel with respect to the age range using pandas and plotly. Use the funnel function from the plotly package."
   ]
  },
  {
   "cell_type": "code",
   "execution_count": null,
   "id": "f26ca85d-42e7-4c9c-a057-1479b466762f",
   "metadata": {
    "deletable": false,
    "nbgrader": {
     "cell_type": "code",
     "checksum": "7fa594e16f5e6d1cdaf447934ab55258",
     "grade": true,
     "grade_id": "cell-3e01a1b3af1f060d",
     "locked": false,
     "points": 0,
     "schema_version": 3,
     "solution": true,
     "task": false
    }
   },
   "outputs": [],
   "source": [
    "df_list = [customer_funnel_by_age_range(age_range=age) for age in [\"18-24\", \"25-34\", \"35-44\", \"45-54\", \"Unknown\"]]\n",
    "df = pd.concat(df_list)\n",
    "'''\n",
    "-> create the plotly figure with given dataframe df, x as \"values\", y as \"stages\", color as \"age_range\", text as \"percentage\"\n",
    "-> show the figure\n",
    "'''\n",
    "# YOUR CODE HERE\n",
    "raise NotImplementedError()"
   ]
  }
 ],
 "metadata": {
  "kernelspec": {
   "display_name": "DHBW-Kurs",
   "language": "python",
   "name": "dhbw-kurs"
  },
  "language_info": {
   "codemirror_mode": {
    "name": "ipython",
    "version": 3
   },
   "file_extension": ".py",
   "mimetype": "text/x-python",
   "name": "python",
   "nbconvert_exporter": "python",
   "pygments_lexer": "ipython3",
   "version": "3.11.6"
  }
 },
 "nbformat": 4,
 "nbformat_minor": 5
}
