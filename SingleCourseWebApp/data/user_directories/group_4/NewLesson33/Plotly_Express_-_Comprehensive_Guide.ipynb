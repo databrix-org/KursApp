{
  "cells": [
    {
      "id": "982fee8d-a375-48a8-a28b-b0c3b76fe5e1",
      "cell_type": "markdown",
      "source": [
        "<div style=\"font-family: Arial, sans-serif; border: 1px solid #f0f0f0; padding: 10px;\">\n    <h2 style=\"color: #4CAF50;\">Data Visualization with Plotly Express</h2>\n    <p>Explore the power of interactive visualizations using <strong>Plotly Express</strong> in Python. This notebook covers:</p>\n    <ul>\n        <li>Basic and advanced line chart creation.</li>\n        <li>Customization of charts for better insights.</li>\n        <li>Dynamic data transformations to optimize for plotting.</li>\n        <li>Interactivity with animations and layout controls.</li>\n    </ul>\n    <span style=\"font-size: 0.9em; color: #555;\">Create plots that not only inform but also engage!</span>\n</div>\n\n### Notebook Overview\nThis Jupyter Notebook focuses on utilizing Plotly Express to visualize data effectively with various chart types, primarily emphasizing line charts.\n\n#### Key Highlights:\n\n1. **Plotly Express Basics**:\n   - The Notebook begins by importing essential libraries such as `pandas`, `numpy`, and `plotly.express`.\n   - It introduces the syntax for creating basic line charts using Plotly Express: `px.line(df, parameters)`.\n\n2. **Plot Customization**:\n   - Emphasis on customizing plot layout and styles using `update_layout()` and the importance of assigning charts to variables for further manipulation using `fig = px.chart_type()`.\n   - Demonstrates creating a line chart to visualize the number of visitors to Spain using various ways to refer to data, including data frames, series, and lists.\n\n3. **Data Transformation**:\n   - Shows how to convert a wide dataframe into a long format using `df.melt()` to optimize the data for Plotly's use.\n   - Filters and limits the data scope for detailed visualization insights.\n\n4. **Animation and Interactivity**:\n   - Introduces dynamic plots using the `animation_frame` parameter, allowing for time-based animation, beneficial for monitoring changes over time.\n\n5. **Advanced Layouts**:\n   - Lays the groundwork for more advanced chart features like dynamic styling and using a layout dictionary for custom configurations."
      ],
      "outputs": []
    },
    {
      "id": "db5bac4e-49ae-4f41-88fd-f32784b62033",
      "cell_type": "code",
      "source": [
        "import pandas as pd\n",
        "import numpy as np\n",
        "import plotly.express as px"
      ],
      "outputs": [],
      "metadata": {
        "ExecuteTime": {
          "end_time": "2020-10-15T13:01:01.837349Z",
          "start_time": "2020-10-15T13:01:01.418468Z"
        }
      }
    },
    {
      "id": "acb4266b-435f-4d9d-a818-f7a4eb26b081",
      "cell_type": "markdown",
      "source": [
        "# Question: Data Transformation\n\nIn this notebook, we are working with data where originally years are columns, and our task is converting this data to have country names as columns. The data is obtained from a previous preprocessing step. \n\n**Question:** How can you transpose a DataFrame to switch the orientation of its rows and columns so that the country names become columns?\n\n*Hint:* The data transformations involve reading pickled files and using DataFrame methods like `set_index()` and `transpose()`. Try to understand these steps and think about why they are used in this context."
      ],
      "outputs": [],
      "metadata": {}
    },
    {
      "id": "ba2373fd-642e-4aab-81e5-23397fcd8a19",
      "cell_type": "code",
      "source": [
        "# Load the dataframe where original data has years as columns\n# Hint: Use the pd.read_pickle() function\n\nyear_columns = ___ \n\n# Transpose the dataframe so that country names become columns\n# Hint: Use the set_index(\"Country Name\") and transpose() methods\n\ncountry_columns = year_columns.___((___)).___()\n\n# Load another dataset to explore expenditures made in each country\n# Hint: Again use pd.read_pickle() to load the data\n\nrec = ___\n\n# Display the first few rows of the transformed dataframe\n# Hint: Use the head() method to view the data\n\ncountry_columns.___()"
      ],
      "outputs": [],
      "metadata": {
        "ExecuteTime": {
          "end_time": "2020-10-15T13:01:01.867845Z",
          "start_time": "2020-10-15T13:01:01.838345Z"
        }
      }
    },
    {
      "id": "b6151a6e-4afa-44da-89d6-0e04150c6648",
      "cell_type": "code",
      "source": [
        "country_columns.head()"
      ],
      "outputs": [
        {
          "data": {
            "text/html": [
              "<div>\n",
              "<style scoped>\n",
              "    .dataframe tbody tr th:only-of-type {\n",
              "        vertical-align: middle;\n",
              "    }\n",
              "\n",
              "    .dataframe tbody tr th {\n",
              "        vertical-align: top;\n",
              "    }\n",
              "\n",
              "    .dataframe thead th {\n",
              "        text-align: right;\n",
              "    }\n",
              "</style>\n",
              "<table border=\"1\" class=\"dataframe\">\n",
              "  <thead>\n",
              "    <tr style=\"text-align: right;\">\n",
              "      <th>Country Name</th>\n",
              "      <th>Aruba</th>\n",
              "      <th>Afghanistan</th>\n",
              "      <th>Angola</th>\n",
              "      <th>Albania</th>\n",
              "      <th>Andorra</th>\n",
              "      <th>United Arab Emirates</th>\n",
              "      <th>Argentina</th>\n",
              "      <th>Armenia</th>\n",
              "      <th>American Samoa</th>\n",
              "      <th>Antigua and Barbuda</th>\n",
              "      <th>...</th>\n",
              "      <th>Venezuela, RB</th>\n",
              "      <th>British Virgin Islands</th>\n",
              "      <th>Virgin Islands (U.S.)</th>\n",
              "      <th>Vietnam</th>\n",
              "      <th>Vanuatu</th>\n",
              "      <th>Samoa</th>\n",
              "      <th>Yemen, Rep.</th>\n",
              "      <th>South Africa</th>\n",
              "      <th>Zambia</th>\n",
              "      <th>Zimbabwe</th>\n",
              "    </tr>\n",
              "  </thead>\n",
              "  <tbody>\n",
              "    <tr>\n",
              "      <th>Country Code</th>\n",
              "      <td>ABW</td>\n",
              "      <td>AFG</td>\n",
              "      <td>AGO</td>\n",
              "      <td>ALB</td>\n",
              "      <td>AND</td>\n",
              "      <td>ARE</td>\n",
              "      <td>ARG</td>\n",
              "      <td>ARM</td>\n",
              "      <td>ASM</td>\n",
              "      <td>ATG</td>\n",
              "      <td>...</td>\n",
              "      <td>VEN</td>\n",
              "      <td>VGB</td>\n",
              "      <td>VIR</td>\n",
              "      <td>VNM</td>\n",
              "      <td>VUT</td>\n",
              "      <td>WSM</td>\n",
              "      <td>YEM</td>\n",
              "      <td>ZAF</td>\n",
              "      <td>ZMB</td>\n",
              "      <td>ZWE</td>\n",
              "    </tr>\n",
              "    <tr>\n",
              "      <th>1995</th>\n",
              "      <td>619000</td>\n",
              "      <td>NaN</td>\n",
              "      <td>9000</td>\n",
              "      <td>NaN</td>\n",
              "      <td>NaN</td>\n",
              "      <td>2.315e+06</td>\n",
              "      <td>2.289e+06</td>\n",
              "      <td>12000</td>\n",
              "      <td>34000</td>\n",
              "      <td>220000</td>\n",
              "      <td>...</td>\n",
              "      <td>700000</td>\n",
              "      <td>219000</td>\n",
              "      <td>454000</td>\n",
              "      <td>1.351e+06</td>\n",
              "      <td>44000</td>\n",
              "      <td>68000</td>\n",
              "      <td>61000</td>\n",
              "      <td>4.488e+06</td>\n",
              "      <td>163000</td>\n",
              "      <td>1.416e+06</td>\n",
              "    </tr>\n",
              "    <tr>\n",
              "      <th>1996</th>\n",
              "      <td>641000</td>\n",
              "      <td>NaN</td>\n",
              "      <td>21000</td>\n",
              "      <td>NaN</td>\n",
              "      <td>NaN</td>\n",
              "      <td>2.572e+06</td>\n",
              "      <td>2.614e+06</td>\n",
              "      <td>13000</td>\n",
              "      <td>35000</td>\n",
              "      <td>228000</td>\n",
              "      <td>...</td>\n",
              "      <td>759000</td>\n",
              "      <td>244000</td>\n",
              "      <td>373000</td>\n",
              "      <td>1.607e+06</td>\n",
              "      <td>46000</td>\n",
              "      <td>73000</td>\n",
              "      <td>74000</td>\n",
              "      <td>4.915e+06</td>\n",
              "      <td>264000</td>\n",
              "      <td>1.597e+06</td>\n",
              "    </tr>\n",
              "    <tr>\n",
              "      <th>1997</th>\n",
              "      <td>650000</td>\n",
              "      <td>NaN</td>\n",
              "      <td>45000</td>\n",
              "      <td>NaN</td>\n",
              "      <td>NaN</td>\n",
              "      <td>2.476e+06</td>\n",
              "      <td>2.764e+06</td>\n",
              "      <td>23000</td>\n",
              "      <td>26000</td>\n",
              "      <td>240000</td>\n",
              "      <td>...</td>\n",
              "      <td>814000</td>\n",
              "      <td>244000</td>\n",
              "      <td>393000</td>\n",
              "      <td>1.716e+06</td>\n",
              "      <td>50000</td>\n",
              "      <td>68000</td>\n",
              "      <td>80000</td>\n",
              "      <td>4.976e+06</td>\n",
              "      <td>341000</td>\n",
              "      <td>1.336e+06</td>\n",
              "    </tr>\n",
              "    <tr>\n",
              "      <th>1998</th>\n",
              "      <td>647000</td>\n",
              "      <td>NaN</td>\n",
              "      <td>52000</td>\n",
              "      <td>NaN</td>\n",
              "      <td>NaN</td>\n",
              "      <td>2.991e+06</td>\n",
              "      <td>3.012e+06</td>\n",
              "      <td>32000</td>\n",
              "      <td>36000</td>\n",
              "      <td>234000</td>\n",
              "      <td>...</td>\n",
              "      <td>685000</td>\n",
              "      <td>279000</td>\n",
              "      <td>422000</td>\n",
              "      <td>1.52e+06</td>\n",
              "      <td>52000</td>\n",
              "      <td>78000</td>\n",
              "      <td>88000</td>\n",
              "      <td>5.732e+06</td>\n",
              "      <td>362000</td>\n",
              "      <td>2.09e+06</td>\n",
              "    </tr>\n",
              "  </tbody>\n",
              "</table>\n",
              "<p>5 rows × 215 columns</p>\n",
              "</div>"
            ],
            "text/plain": [
              "Country Name   Aruba Afghanistan Angola Albania Andorra United Arab Emirates  \\\n",
              "Country Code     ABW         AFG    AGO     ALB     AND                  ARE   \n",
              "1995          619000         NaN   9000     NaN     NaN            2.315e+06   \n",
              "1996          641000         NaN  21000     NaN     NaN            2.572e+06   \n",
              "1997          650000         NaN  45000     NaN     NaN            2.476e+06   \n",
              "1998          647000         NaN  52000     NaN     NaN            2.991e+06   \n",
              "\n",
              "Country Name  Argentina Armenia American Samoa Antigua and Barbuda  ...  \\\n",
              "Country Code        ARG     ARM            ASM                 ATG  ...   \n",
              "1995          2.289e+06   12000          34000              220000  ...   \n",
              "1996          2.614e+06   13000          35000              228000  ...   \n",
              "1997          2.764e+06   23000          26000              240000  ...   \n",
              "1998          3.012e+06   32000          36000              234000  ...   \n",
              "\n",
              "Country Name Venezuela, RB British Virgin Islands Virgin Islands (U.S.)  \\\n",
              "Country Code           VEN                    VGB                   VIR   \n",
              "1995                700000                 219000                454000   \n",
              "1996                759000                 244000                373000   \n",
              "1997                814000                 244000                393000   \n",
              "1998                685000                 279000                422000   \n",
              "\n",
              "Country Name    Vietnam Vanuatu  Samoa Yemen, Rep. South Africa  Zambia  \\\n",
              "Country Code        VNM     VUT    WSM         YEM          ZAF     ZMB   \n",
              "1995          1.351e+06   44000  68000       61000    4.488e+06  163000   \n",
              "1996          1.607e+06   46000  73000       74000    4.915e+06  264000   \n",
              "1997          1.716e+06   50000  68000       80000    4.976e+06  341000   \n",
              "1998           1.52e+06   52000  78000       88000    5.732e+06  362000   \n",
              "\n",
              "Country Name   Zimbabwe  \n",
              "Country Code        ZWE  \n",
              "1995          1.416e+06  \n",
              "1996          1.597e+06  \n",
              "1997          1.336e+06  \n",
              "1998           2.09e+06  \n",
              "\n",
              "[5 rows x 215 columns]"
            ]
          },
          "execution_count": 3,
          "metadata": {},
          "output_type": "execute_result"
        }
      ],
      "metadata": {}
    },
    {
      "id": "2ed02266-fda1-467a-b7d7-be6c0fd338be",
      "cell_type": "markdown",
      "source": [
        "# Line Chart\n",
        "Let's start to explore the Plotly Database using the line chart. The regular syntax for any Plotly.Exress chart is `px.chart_type(df, parameters)` so for the line chart it's `px.line(df, parameters)`. \n",
        "\n",
        "There're always the three ways how to create the plot. Check yourself, but I think the first one makes the most sense. \n",
        "\n",
        "* using dataframe and referencing the columns, e.g. `y=\"Spain\"` because \"Spain\" is one of the columns in `country_columns` dataset\n",
        "* using `pandas.Series`\n",
        "* using a list of values"
      ],
      "outputs": [],
      "metadata": {}
    },
    {
      "id": "77e07c4c-64c1-4083-9604-968a9bb6f395",
      "cell_type": "code",
      "source": [
        "\"\"\"our dataset comes as a wide dataset with years as column. To turn the country names into the columns, we must set them as index and transpose the frame.\"\"\"\n",
        "country_columns = year_columns.set_index(\"Country Name\").T\n",
        "# 1. I had to reshape the data by transposing\n",
        "px.line(country_columns\n",
        "        ,y=\"Spain\"\n",
        "        ,title=\"Visitors to Spain\")\n"
      ],
      "outputs": [],
      "metadata": {
        "ExecuteTime": {
          "end_time": "2020-10-15T13:01:02.382062Z",
          "start_time": "2020-10-15T13:01:01.869843Z"
        }
      }
    },
    {
      "id": "4d019e95-ca93-4af2-94c9-8f050fdf5c4f",
      "cell_type": "code",
      "source": [
        "# 2. you can specify the value as pandas.Series as well\n",
        "px.line(country_columns, \n",
        "        y=country_columns[\"Spain\"],\n",
        "       title=\"Visitors to Spain\")"
      ],
      "outputs": [],
      "metadata": {
        "ExecuteTime": {
          "end_time": "2020-10-15T13:01:02.427940Z",
          "start_time": "2020-10-15T13:01:02.384082Z"
        }
      }
    },
    {
      "id": "8836082d-22c4-4347-941b-c6daa78d87ce",
      "cell_type": "code",
      "source": [
        "# 3. or any array. In this case you must specify y-label. \n",
        "px.line(country_columns, \n",
        "        y=country_columns[\"Spain\"].to_list(), \n",
        "        labels={\"y\":\"Spain\"},\n",
        "       title=\"Visitors to Spain\")"
      ],
      "outputs": [],
      "metadata": {
        "ExecuteTime": {
          "end_time": "2020-10-15T13:01:02.475811Z",
          "start_time": "2020-10-15T13:01:02.428937Z"
        }
      }
    },
    {
      "id": "7a697044-4378-4ef3-a9de-54d035f3d95b",
      "cell_type": "markdown",
      "source": [
        "On background, each graph is a dictionary. You can store the chart into a variable, commonly fig and display this dictionary using `fig.to_dict()` or `fig[\"data\"]` or `fig.data` to see the elements data or `fig[\"layout\"]` to review the design of the plot."
      ],
      "outputs": [],
      "metadata": {
        "ExecuteTime": {
          "end_time": "2020-10-15T12:17:43.895039Z",
          "start_time": "2020-10-15T12:17:43.882051Z"
        }
      }
    },
    {
      "id": "4c0e5cc2-e1cd-4b97-bee0-d2cfef9bc648",
      "cell_type": "code",
      "source": [
        "fig = px.line(country_columns, \n",
        "        y=country_columns[\"Spain\"],\n",
        "       title=\"Visitors to Spain\")\n",
        "fig.data, fig.layout"
      ],
      "outputs": [
        {
          "data": {
            "text/plain": [
              "((Scatter({\n",
              "      'hovertemplate': 'index=%{x}<br>Spain=%{y}<extra></extra>',\n",
              "      'legendgroup': '',\n",
              "      'line': {'color': '#636efa', 'dash': 'solid'},\n",
              "      'mode': 'lines',\n",
              "      'name': '',\n",
              "      'orientation': 'v',\n",
              "      'showlegend': False,\n",
              "      'x': array(['Country Code', '1995', '1996', '1997', '1998', '1999', '2000', '2001',\n",
              "                  '2002', '2003', '2004', '2005', '2006', '2007', '2008', '2009', '2010',\n",
              "                  '2011', '2012', '2013', '2014', '2015', '2016', '2017', '2018',\n",
              "                  'Region'], dtype=object),\n",
              "      'xaxis': 'x',\n",
              "      'y': array(['ESP', 32971000.0, 34027000.0, 39553000.0, 41892000.0, 45440000.0,\n",
              "                  46403000.0, 48565000.0, 50331000.0, 50854000.0, 52430000.0, 55914000.0,\n",
              "                  58004000.0, 58666000.0, 57192000.0, 52178000.0, 52677000.0, 56177000.0,\n",
              "                  57464000.0, 60675000.0, 64939000.0, 68175000.0, 75315000.0, 81869000.0,\n",
              "                  82773000.0, 'Europe & Central Asia'], dtype=object),\n",
              "      'yaxis': 'y'\n",
              "  }),),\n",
              " Layout({\n",
              "     'legend': {'tracegroupgap': 0},\n",
              "     'template': '...',\n",
              "     'title': {'text': 'Visitors to Spain'},\n",
              "     'xaxis': {'anchor': 'y', 'domain': [0.0, 1.0], 'title': {'text': 'index'}},\n",
              "     'yaxis': {'anchor': 'x', 'domain': [0.0, 1.0], 'title': {'text': 'Spain'}}\n",
              " }))"
            ]
          },
          "execution_count": 7,
          "metadata": {},
          "output_type": "execute_result"
        }
      ],
      "metadata": {
        "ExecuteTime": {
          "end_time": "2020-10-15T13:01:02.523683Z",
          "start_time": "2020-10-15T13:01:02.476808Z"
        }
      }
    },
    {
      "id": "68f8714d-4e87-4dcc-be19-cc02752e8706",
      "cell_type": "markdown",
      "source": [
        "## Layout Basics\n",
        "In the examples above, we plot the charts immediately using `px.line(df, params)`, but in order to influence the other parts of the plot, you can assign it into the a variable. As standard `fig = px.chart_type()` is used. In such a case, you render the plot using `fig.show()`"
      ],
      "outputs": [],
      "metadata": {
        "ExecuteTime": {
          "end_time": "2020-10-15T12:23:21.342947Z",
          "start_time": "2020-10-15T12:23:21.331977Z"
        }
      }
    },
    {
      "id": "dfd9f75e-af7a-488b-8ca3-228b5de7edf3",
      "cell_type": "code",
      "source": [
        "fig = px.line(country_columns, \n",
        "        y=country_columns[\"Spain\"].to_list(), \n",
        "        labels={\"y\":\"Spain\"},\n",
        "       title=\"Visitors to Spain\")\n",
        "fig.update_layout(template=\"plotly_dark\")\n",
        "fig.show()"
      ],
      "outputs": [],
      "metadata": {
        "ExecuteTime": {
          "end_time": "2020-10-15T13:01:02.584520Z",
          "start_time": "2020-10-15T13:01:02.524681Z"
        }
      }
    },
    {
      "id": "537ea510-1b6a-4fe7-91a1-9842524ed3e4",
      "cell_type": "markdown",
      "source": [
        "Rarely you have an option to use multiple columns as input to one of the Plotly parameters. If I'm using `country_columns` data frame which has a column for each country, when I input `y=[\"Spain\",\"Italy\",\"France\"]` three lines will be drawn. "
      ],
      "outputs": [],
      "metadata": {
        "ExecuteTime": {
          "end_time": "2020-10-15T12:30:50.694556Z",
          "start_time": "2020-10-15T12:30:50.689568Z"
        }
      }
    },
    {
      "id": "709dd208-9f88-4937-8c1d-8dd6d0f84de1",
      "cell_type": "code",
      "source": [
        "px.line(country_columns, y=[\"Spain\",\"Italy\",\"France\"], title=\"International Visitors\")"
      ],
      "outputs": [],
      "metadata": {
        "ExecuteTime": {
          "end_time": "2020-10-15T13:01:02.645358Z",
          "start_time": "2020-10-15T13:01:02.587512Z"
        }
      }
    },
    {
      "id": "6e4f5db2-ba15-416b-ab7c-baff6f6b9cbc",
      "cell_type": "markdown",
      "source": [
        "But trying to use multiple columns for any other parameter leads to an error."
      ],
      "outputs": [],
      "metadata": {}
    },
    {
      "id": "086b4a9d-1904-4706-849d-2060c928b7a5",
      "cell_type": "code",
      "source": [
        "try: \n",
        "    px.line(country_columns, y=[\"Spain\",\"Italy\",\"France\"], \n",
        "            text=[\"Spain\",\"Italy\",\"France\"])\n",
        "except Exception as e:\n",
        "    print(e)"
      ],
      "outputs": [
        {
          "name": "stdout",
          "output_type": "stream",
          "text": [
            "All arguments should have the same length. The length of argument `wide_cross` is 26, whereas the length of  previously-processed arguments ['text'] is 3\n"
          ]
        }
      ],
      "metadata": {
        "ExecuteTime": {
          "end_time": "2020-10-15T13:01:02.661314Z",
          "start_time": "2020-10-15T13:01:02.646356Z"
        }
      }
    },
    {
      "id": "c467c04c-a183-4e56-ae8d-8574703ab224",
      "cell_type": "markdown",
      "source": [
        "You can try some workaround, but they won't create a chart with 3 lines with data value labels. "
      ],
      "outputs": [],
      "metadata": {}
    },
    {
      "id": "c885de31-3747-4577-9a3a-19d1d677cfee",
      "cell_type": "code",
      "source": [
        "fig = px.line(country_columns, y=[\"Spain\",\"Italy\",\"France\"], \n",
        "                text=\"Spain\",\n",
        "             title=\"Impossible with wide data\")\n",
        "\n",
        "fig.update_traces(texttemplate='%{text:.2s}', textposition=\"top center\")"
      ],
      "outputs": [],
      "metadata": {
        "ExecuteTime": {
          "end_time": "2020-10-15T13:01:02.724147Z",
          "start_time": "2020-10-15T13:01:02.662314Z"
        }
      }
    },
    {
      "id": "cab85fd6-61bb-4400-93ca-461897a1aec2",
      "cell_type": "markdown",
      "source": [
        "To get the most from Plotly.Express, it's preferable to use the long dataframe. From the wide dataframe you achive it using the `df.melt()` function"
      ],
      "outputs": [],
      "metadata": {}
    },
    {
      "id": "df789972-0b10-4f11-8430-fafcfc250d6d",
      "cell_type": "code",
      "source": [
        "melted_df = year_columns.melt(id_vars=[\"Country Name\",\"Country Code\",\"Region\"], \n",
        "                              var_name=\"years\",\n",
        "                             value_name=\"visitors\")\n",
        "melted_df"
      ],
      "outputs": [
        {
          "data": {
            "text/html": [
              "<div>\n",
              "<style scoped>\n",
              "    .dataframe tbody tr th:only-of-type {\n",
              "        vertical-align: middle;\n",
              "    }\n",
              "\n",
              "    .dataframe tbody tr th {\n",
              "        vertical-align: top;\n",
              "    }\n",
              "\n",
              "    .dataframe thead th {\n",
              "        text-align: right;\n",
              "    }\n",
              "</style>\n",
              "<table border=\"1\" class=\"dataframe\">\n",
              "  <thead>\n",
              "    <tr style=\"text-align: right;\">\n",
              "      <th></th>\n",
              "      <th>Country Name</th>\n",
              "      <th>Country Code</th>\n",
              "      <th>Region</th>\n",
              "      <th>years</th>\n",
              "      <th>visitors</th>\n",
              "    </tr>\n",
              "  </thead>\n",
              "  <tbody>\n",
              "    <tr>\n",
              "      <th>0</th>\n",
              "      <td>Aruba</td>\n",
              "      <td>ABW</td>\n",
              "      <td>Latin America &amp; Caribbean</td>\n",
              "      <td>1995</td>\n",
              "      <td>619000.0</td>\n",
              "    </tr>\n",
              "    <tr>\n",
              "      <th>1</th>\n",
              "      <td>Afghanistan</td>\n",
              "      <td>AFG</td>\n",
              "      <td>South Asia</td>\n",
              "      <td>1995</td>\n",
              "      <td>NaN</td>\n",
              "    </tr>\n",
              "    <tr>\n",
              "      <th>2</th>\n",
              "      <td>Angola</td>\n",
              "      <td>AGO</td>\n",
              "      <td>Sub-Saharan Africa</td>\n",
              "      <td>1995</td>\n",
              "      <td>9000.0</td>\n",
              "    </tr>\n",
              "    <tr>\n",
              "      <th>3</th>\n",
              "      <td>Albania</td>\n",
              "      <td>ALB</td>\n",
              "      <td>Europe &amp; Central Asia</td>\n",
              "      <td>1995</td>\n",
              "      <td>NaN</td>\n",
              "    </tr>\n",
              "    <tr>\n",
              "      <th>4</th>\n",
              "      <td>Andorra</td>\n",
              "      <td>AND</td>\n",
              "      <td>Europe &amp; Central Asia</td>\n",
              "      <td>1995</td>\n",
              "      <td>NaN</td>\n",
              "    </tr>\n",
              "    <tr>\n",
              "      <th>...</th>\n",
              "      <td>...</td>\n",
              "      <td>...</td>\n",
              "      <td>...</td>\n",
              "      <td>...</td>\n",
              "      <td>...</td>\n",
              "    </tr>\n",
              "    <tr>\n",
              "      <th>5155</th>\n",
              "      <td>Samoa</td>\n",
              "      <td>WSM</td>\n",
              "      <td>East Asia &amp; Pacific</td>\n",
              "      <td>2018</td>\n",
              "      <td>164000.0</td>\n",
              "    </tr>\n",
              "    <tr>\n",
              "      <th>5156</th>\n",
              "      <td>Yemen, Rep.</td>\n",
              "      <td>YEM</td>\n",
              "      <td>Middle East &amp; North Africa</td>\n",
              "      <td>2018</td>\n",
              "      <td>NaN</td>\n",
              "    </tr>\n",
              "    <tr>\n",
              "      <th>5157</th>\n",
              "      <td>South Africa</td>\n",
              "      <td>ZAF</td>\n",
              "      <td>Sub-Saharan Africa</td>\n",
              "      <td>2018</td>\n",
              "      <td>10472000.0</td>\n",
              "    </tr>\n",
              "    <tr>\n",
              "      <th>5158</th>\n",
              "      <td>Zambia</td>\n",
              "      <td>ZMB</td>\n",
              "      <td>Sub-Saharan Africa</td>\n",
              "      <td>2018</td>\n",
              "      <td>1072000.0</td>\n",
              "    </tr>\n",
              "    <tr>\n",
              "      <th>5159</th>\n",
              "      <td>Zimbabwe</td>\n",
              "      <td>ZWE</td>\n",
              "      <td>Sub-Saharan Africa</td>\n",
              "      <td>2018</td>\n",
              "      <td>2580000.0</td>\n",
              "    </tr>\n",
              "  </tbody>\n",
              "</table>\n",
              "<p>5160 rows × 5 columns</p>\n",
              "</div>"
            ],
            "text/plain": [
              "      Country Name Country Code                      Region years    visitors\n",
              "0            Aruba          ABW   Latin America & Caribbean  1995    619000.0\n",
              "1      Afghanistan          AFG                  South Asia  1995         NaN\n",
              "2           Angola          AGO          Sub-Saharan Africa  1995      9000.0\n",
              "3          Albania          ALB       Europe & Central Asia  1995         NaN\n",
              "4          Andorra          AND       Europe & Central Asia  1995         NaN\n",
              "...            ...          ...                         ...   ...         ...\n",
              "5155         Samoa          WSM         East Asia & Pacific  2018    164000.0\n",
              "5156   Yemen, Rep.          YEM  Middle East & North Africa  2018         NaN\n",
              "5157  South Africa          ZAF          Sub-Saharan Africa  2018  10472000.0\n",
              "5158        Zambia          ZMB          Sub-Saharan Africa  2018   1072000.0\n",
              "5159      Zimbabwe          ZWE          Sub-Saharan Africa  2018   2580000.0\n",
              "\n",
              "[5160 rows x 5 columns]"
            ]
          },
          "execution_count": 12,
          "metadata": {},
          "output_type": "execute_result"
        }
      ],
      "metadata": {
        "ExecuteTime": {
          "end_time": "2020-10-15T13:01:02.755065Z",
          "start_time": "2020-10-15T13:01:02.725145Z"
        }
      }
    },
    {
      "id": "a005c7f6-8e8c-4971-bb41-44a85a7fc538",
      "cell_type": "markdown",
      "source": [
        "Now you can assign one column to each paramter. In case you want to limit the scope to just 3 of 215 countries, let's filter them in advance. "
      ],
      "outputs": [],
      "metadata": {}
    },
    {
      "id": "41f4cfd8-060f-484e-a1b9-a530f865bf80",
      "cell_type": "code",
      "source": [
        "spfrit = melted_df[melted_df[\"Country Name\"].isin([\"Spain\",\"Italy\",\"France\"])]"
      ],
      "outputs": [],
      "metadata": {
        "ExecuteTime": {
          "end_time": "2020-10-15T13:01:02.771022Z",
          "start_time": "2020-10-15T13:01:02.756078Z"
        }
      }
    },
    {
      "id": "d2308af1-4e88-4b35-9a6b-7dc408083033",
      "cell_type": "code",
      "source": [
        "# by assigning single column to each parameter you can achieve almost every chart design. \n",
        "fig = px.line(spfrit, \n",
        "        x=\"years\", \n",
        "        y=\"visitors\", \n",
        "        color=\"Country Name\", \n",
        "        text=\"visitors\",\n",
        "       title=\"International Visitors\")\n",
        "\n",
        "fig.update_traces(texttemplate='%{text:.2s}', textposition=\"top center\")"
      ],
      "outputs": [],
      "metadata": {
        "ExecuteTime": {
          "end_time": "2020-10-15T13:01:02.818895Z",
          "start_time": "2020-10-15T13:01:02.772020Z"
        }
      }
    },
    {
      "id": "aee95a0a-c2dc-47c6-881f-7d06445669b0",
      "cell_type": "markdown",
      "source": [
        "### Tooltips\n",
        "* `hover_name` - highlights value of this column on the top of the tooltip\n",
        "* `hover_data` - let you add or remove tooltips by setting them True/False\n",
        "* `labels` - let you rename the column names inside the tooltip\n",
        "\n",
        "You can also use the icons in the Plotly interactive menu to change between single tooltip appearing or a tooltip for all the lines at the `x` coordinate you hover over - `show closest data on hover` vs `compare data on hover` icons."
      ],
      "outputs": [],
      "metadata": {
        "ExecuteTime": {
          "end_time": "2020-10-15T12:43:59.792523Z",
          "start_time": "2020-10-15T12:43:59.773574Z"
        }
      }
    },
    {
      "id": "dabcf9b0-f60b-4cff-913c-41b50d740411",
      "cell_type": "code",
      "source": [
        "fig = px.line(melted_df[melted_df[\"Country Name\"].isin([\"France\",\"Italy\",\"Spain\"])], \n",
        "        x=\"years\", \n",
        "        y=\"visitors\", \n",
        "        color=\"Country Name\", \n",
        "        hover_name=\"Country Name\",\n",
        "        text=\"visitors\",\n",
        "        hover_data = {\"Country Name\": False,\n",
        "                     \"Country Code\": True},\n",
        "        labels={\"Country Code\": \"Code\"},\n",
        "        title=\"International Visitors\")\n",
        "fig.update_traces(texttemplate='%{text:.2s}', textposition=\"top center\")"
      ],
      "outputs": [],
      "metadata": {
        "ExecuteTime": {
          "end_time": "2020-10-15T13:01:02.880729Z",
          "start_time": "2020-10-15T13:01:02.820892Z"
        }
      }
    },
    {
      "id": "6b1585dc-73ac-41f5-9f1c-baf307a1acf7",
      "cell_type": "markdown",
      "source": [
        "## Parameter - facet_row and facet_col\n",
        "split the chart into rows or columns"
      ],
      "outputs": [],
      "metadata": {
        "ExecuteTime": {
          "end_time": "2020-08-28T23:04:38.799636Z",
          "start_time": "2020-08-28T23:04:38.794667Z"
        }
      }
    },
    {
      "id": "1c0959a8-f9fe-4e1b-bea6-5222647edfec",
      "cell_type": "code",
      "source": [
        "px.line(melted_df[melted_df[\"Country Name\"].isin([\"France\",\"Italy\",\"Spain\"])], \n",
        "        x=\"years\", \n",
        "        y=\"visitors\", \n",
        "        facet_col =\"Country Name\", \n",
        "        color=\"Country Name\",\n",
        "       title=\"International Visitors\")"
      ],
      "outputs": [],
      "metadata": {
        "ExecuteTime": {
          "end_time": "2020-10-15T13:01:02.942565Z",
          "start_time": "2020-10-15T13:01:02.881727Z"
        }
      }
    },
    {
      "id": "5ce3a45a-c47b-4e3d-8bf0-7c687bde6f44",
      "cell_type": "markdown",
      "source": [
        "## Parameter - color_discrete_sequence\n",
        "To set up the exact color of each line using a list of colors"
      ],
      "outputs": [],
      "metadata": {
        "ExecuteTime": {
          "end_time": "2020-08-28T22:03:34.181238Z",
          "start_time": "2020-08-28T22:03:34.177249Z"
        }
      }
    },
    {
      "id": "8b09a752-6454-4882-babf-97a3e34ffdd9",
      "cell_type": "code",
      "source": [
        "px.line(melted_df[melted_df[\"Country Name\"].isin([\"France\",\"Italy\",\"Spain\"])], \n",
        "        x=\"years\", \n",
        "        y=\"visitors\", \n",
        "        facet_row =\"Country Name\", \n",
        "        color=\"Country Name\",\n",
        "       title=\"International Visitors\",\n",
        "       color_discrete_sequence  = [\"red\",\"yellow\"])"
      ],
      "outputs": [],
      "metadata": {
        "ExecuteTime": {
          "end_time": "2020-10-15T13:01:03.019365Z",
          "start_time": "2020-10-15T13:01:02.946555Z"
        }
      }
    },
    {
      "id": "56e7cdc0-d99c-4629-a34e-c370d1c6a086",
      "cell_type": "markdown",
      "source": [
        "## Parameter - color_discrete_map\n",
        "To set up the exact color of each line using a dictionary"
      ],
      "outputs": [],
      "metadata": {
        "ExecuteTime": {
          "end_time": "2020-08-28T22:08:39.174975Z",
          "start_time": "2020-08-28T22:08:39.168961Z"
        }
      }
    },
    {
      "id": "58d2a912-8420-4d5c-85a0-4d3d4fa127be",
      "cell_type": "code",
      "source": [
        "px.line(melted_df[melted_df[\"Country Name\"].isin([\"France\",\"Italy\",\"Spain\"])], \n",
        "        x=\"years\", \n",
        "        y=\"visitors\", \n",
        "        facet_row =\"Country Name\", \n",
        "        color=\"Country Name\",\n",
        "       title=\"International Visitors\",\n",
        "       color_discrete_map  = {\"Spain\":\"Black\"})\n"
      ],
      "outputs": [],
      "metadata": {
        "ExecuteTime": {
          "end_time": "2020-10-15T13:01:03.082190Z",
          "start_time": "2020-10-15T13:01:03.023350Z"
        }
      }
    },
    {
      "id": "246b412e-e2fd-45de-aec7-01e0cf99519d",
      "cell_type": "markdown",
      "source": [
        "## Parameter - line_group\n",
        "To separate the lines based on this column. Basically work the same as color, but all lines will have the same color"
      ],
      "outputs": [],
      "metadata": {
        "ExecuteTime": {
          "end_time": "2020-08-28T22:08:59.207659Z",
          "start_time": "2020-08-28T22:08:59.203673Z"
        }
      }
    },
    {
      "id": "5dbb404b-2a88-4f87-83a0-f82d0f79d008",
      "cell_type": "code",
      "source": [
        "px.line(melted_df[melted_df[\"Country Name\"].isin([\"France\",\"Italy\",\"Spain\"])], \n",
        "        x=\"years\", \n",
        "        y=\"visitors\", \n",
        "        line_group=\"Country Name\",\n",
        "       title=\"International Visitors\",\n",
        "        # you can use color_discrete_sequence to change the color, but only the first item in the list is considered\n",
        "       color_discrete_sequence  = [\"red\", \"yellow\"])"
      ],
      "outputs": [],
      "metadata": {
        "ExecuteTime": {
          "end_time": "2020-10-15T13:01:03.130062Z",
          "start_time": "2020-10-15T13:01:03.083187Z"
        }
      }
    },
    {
      "id": "324a9ace-5811-4894-8928-f3d65ae93f44",
      "cell_type": "markdown",
      "source": [
        "## Parameters - range_x, range_y\n",
        "Allowing to zoom into the plot. You can zoom out using `autoscale` icon in the Plotly interactive menu, which appear when you hover your mouse over the chart in the top right corner. "
      ],
      "outputs": [],
      "metadata": {
        "ExecuteTime": {
          "end_time": "2020-08-28T22:19:05.083922Z",
          "start_time": "2020-08-28T22:19:05.078937Z"
        }
      }
    },
    {
      "id": "f00e0755-abf5-4d0e-b25a-eaed13f9cd13",
      "cell_type": "code",
      "source": [
        "px.line(melted_df[melted_df[\"Country Name\"].isin([\"France\",\"Italy\",\"Spain\"])], \n",
        "        x=\"years\", \n",
        "        y=\"visitors\", \n",
        "        color=\"Country Name\",\n",
        "        title=\"International Visitors\",\n",
        "        range_x=[2014,2018],\n",
        "        range_y=[50000000,90000000])"
      ],
      "outputs": [],
      "metadata": {
        "ExecuteTime": {
          "end_time": "2020-10-15T13:01:03.191929Z",
          "start_time": "2020-10-15T13:01:03.131061Z"
        }
      }
    },
    {
      "id": "2155a9a3-9511-41f0-be90-4d2f39f10980",
      "cell_type": "markdown",
      "source": [
        "## Parameters - log_x, log_y\n",
        "Change the axes to log scale"
      ],
      "outputs": [],
      "metadata": {
        "ExecuteTime": {
          "end_time": "2020-08-28T22:30:58.506542Z",
          "start_time": "2020-08-28T22:30:58.499564Z"
        }
      }
    },
    {
      "id": "5a954685-bf18-4e04-b7e7-ac2f079c9802",
      "cell_type": "code",
      "source": [
        "px.line(melted_df[melted_df[\"Country Name\"].isin([\"France\",\"Italy\",\"Spain\"])], \n",
        "        x=\"years\", \n",
        "        y=\"visitors\", \n",
        "        color=\"Country Name\",\n",
        "        title=\"International Visitors\",\n",
        "        log_x=True,\n",
        "        log_y=True)"
      ],
      "outputs": [],
      "metadata": {
        "ExecuteTime": {
          "end_time": "2020-10-15T13:01:03.239805Z",
          "start_time": "2020-10-15T13:01:03.192896Z"
        }
      }
    },
    {
      "id": "024ba9f9-4c08-4e1d-9760-ce11d633f673",
      "cell_type": "markdown",
      "source": [
        "## Parameters - line_dash\n",
        "Changes the dash pattern of the lines"
      ],
      "outputs": [],
      "metadata": {
        "ExecuteTime": {
          "end_time": "2020-08-28T22:42:17.030969Z",
          "start_time": "2020-08-28T22:42:17.023938Z"
        }
      }
    },
    {
      "id": "29483057-d5c8-4f5b-8614-623b041f2768",
      "cell_type": "code",
      "source": [
        "px.line(melted_df[melted_df[\"Country Name\"].isin([\"France\",\"Italy\",\"Spain\"])], \n",
        "        x=\"years\", \n",
        "        y=\"visitors\", \n",
        "        line_dash =\"Country Name\",\n",
        "        title=\"International Visitors\",)"
      ],
      "outputs": [],
      "metadata": {
        "ExecuteTime": {
          "end_time": "2020-10-15T13:01:03.286668Z",
          "start_time": "2020-10-15T13:01:03.240777Z"
        }
      }
    },
    {
      "id": "e28736e4-8fde-4608-8b01-1c0c9cebfe7b",
      "cell_type": "markdown",
      "source": [
        "## Parameters - animation_frame\n",
        "In order to use animation with a line chart, I have to treak the data frame a bit. I'll add a new column `year_upto` and for every year I'll hold the data for all previous years.\n",
        "\n",
        "`year_upto   year country visitors`<br>\n",
        "`1995        1995 ESP     1000`<br>\n",
        "`1996        1995 ESP     1000`<br>\n",
        "`1996        1996 ESP     1099`"
      ],
      "outputs": [],
      "metadata": {
        "ExecuteTime": {
          "end_time": "2020-08-28T23:00:42.009864Z",
          "start_time": "2020-08-28T23:00:42.005875Z"
        }
      }
    },
    {
      "id": "16ca6a99-861b-4b56-bd33-4ab5ceac57f9",
      "cell_type": "code",
      "source": [
        "data = []\n",
        "for y in melted_df[\"years\"].unique():\n",
        "    df = spfrit[spfrit[\"years\"]<=y]\n",
        "    df[\"year_upto\"] = y\n",
        "    data.append(df)\n",
        "spfrit_animation = pd.concat(data)"
      ],
      "outputs": [
        {
          "name": "stderr",
          "output_type": "stream",
          "text": [
            "<ipython-input-23-f14025d72ae4>:4: SettingWithCopyWarning:\n",
            "\n",
            "\n",
            "A value is trying to be set on a copy of a slice from a DataFrame.\n",
            "Try using .loc[row_indexer,col_indexer] = value instead\n",
            "\n",
            "See the caveats in the documentation: https://pandas.pydata.org/pandas-docs/stable/user_guide/indexing.html#returning-a-view-versus-a-copy\n",
            "\n"
          ]
        }
      ],
      "metadata": {
        "ExecuteTime": {
          "end_time": "2020-10-15T13:01:03.317562Z",
          "start_time": "2020-10-15T13:01:03.287642Z"
        }
      }
    },
    {
      "id": "11e90efd-a417-4dc0-aba3-d6ef965b16f9",
      "cell_type": "code",
      "source": [
        "px.line(spfrit_animation, \n",
        "        x=\"years\", \n",
        "        y=\"visitors\", \n",
        "        color=\"Country Name\",\n",
        "        title=\"International Visitors\",\n",
        "        range_x=[1995, 2018],\n",
        "        range_y=[25000000,90000000],\n",
        "        animation_frame=\"year_upto\")"
      ],
      "outputs": [],
      "metadata": {
        "ExecuteTime": {
          "end_time": "2020-10-15T13:01:03.582853Z",
          "start_time": "2020-10-15T13:01:03.321552Z"
        }
      }
    },
    {
      "id": "8841d79b-6149-4567-9062-a4aad4d37a8b",
      "cell_type": "markdown",
      "source": [
        "# The Layout and styling\n",
        "Because every plotly chart contain a background dictionary you can update it using 3 ways. "
      ],
      "outputs": [],
      "metadata": {}
    },
    {
      "id": "086c0920-64b8-451a-9179-3df340db69d3",
      "cell_type": "code",
      "source": [
        "# Every graph is a dictionary\n",
        "fig = px.line(country_columns\n",
        "        ,y=\"Spain\"\n",
        "        ,title=\"Visitors to Spain\")\n",
        "\n",
        "# display the data\n",
        "fig.to_dict()"
      ],
      "outputs": [
        {
          "data": {
            "text/plain": [
              "{'data': [{'hovertemplate': 'index=%{x}<br>Spain=%{y}<extra></extra>',\n",
              "   'legendgroup': '',\n",
              "   'line': {'color': '#636efa', 'dash': 'solid'},\n",
              "   'mode': 'lines',\n",
              "   'name': '',\n",
              "   'orientation': 'v',\n",
              "   'showlegend': False,\n",
              "   'x': array(['Country Code', '1995', '1996', '1997', '1998', '1999', '2000',\n",
              "          '2001', '2002', '2003', '2004', '2005', '2006', '2007', '2008',\n",
              "          '2009', '2010', '2011', '2012', '2013', '2014', '2015', '2016',\n",
              "          '2017', '2018', 'Region'], dtype=object),\n",
              "   'xaxis': 'x',\n",
              "   'y': array(['ESP', 32971000.0, 34027000.0, 39553000.0, 41892000.0, 45440000.0,\n",
              "          46403000.0, 48565000.0, 50331000.0, 50854000.0, 52430000.0,\n",
              "          55914000.0, 58004000.0, 58666000.0, 57192000.0, 52178000.0,\n",
              "          52677000.0, 56177000.0, 57464000.0, 60675000.0, 64939000.0,\n",
              "          68175000.0, 75315000.0, 81869000.0, 82773000.0,\n",
              "          'Europe & Central Asia'], dtype=object),\n",
              "   'yaxis': 'y',\n",
              "   'type': 'scatter'}],\n",
              " 'layout': {'xaxis': {'anchor': 'y',\n",
              "   'domain': [0.0, 1.0],\n",
              "   'title': {'text': 'index'}},\n",
              "  'yaxis': {'anchor': 'x', 'domain': [0.0, 1.0], 'title': {'text': 'Spain'}},\n",
              "  'template': {'data': {'histogram2dcontour': [{'type': 'histogram2dcontour',\n",
              "      'colorbar': {'outlinewidth': 0, 'ticks': ''},\n",
              "      'colorscale': [[0.0, '#0d0887'],\n",
              "       [0.1111111111111111, '#46039f'],\n",
              "       [0.2222222222222222, '#7201a8'],\n",
              "       [0.3333333333333333, '#9c179e'],\n",
              "       [0.4444444444444444, '#bd3786'],\n",
              "       [0.5555555555555556, '#d8576b'],\n",
              "       [0.6666666666666666, '#ed7953'],\n",
              "       [0.7777777777777778, '#fb9f3a'],\n",
              "       [0.8888888888888888, '#fdca26'],\n",
              "       [1.0, '#f0f921']]}],\n",
              "    'choropleth': [{'type': 'choropleth',\n",
              "      'colorbar': {'outlinewidth': 0, 'ticks': ''}}],\n",
              "    'histogram2d': [{'type': 'histogram2d',\n",
              "      'colorbar': {'outlinewidth': 0, 'ticks': ''},\n",
              "      'colorscale': [[0.0, '#0d0887'],\n",
              "       [0.1111111111111111, '#46039f'],\n",
              "       [0.2222222222222222, '#7201a8'],\n",
              "       [0.3333333333333333, '#9c179e'],\n",
              "       [0.4444444444444444, '#bd3786'],\n",
              "       [0.5555555555555556, '#d8576b'],\n",
              "       [0.6666666666666666, '#ed7953'],\n",
              "       [0.7777777777777778, '#fb9f3a'],\n",
              "       [0.8888888888888888, '#fdca26'],\n",
              "       [1.0, '#f0f921']]}],\n",
              "    'heatmap': [{'type': 'heatmap',\n",
              "      'colorbar': {'outlinewidth': 0, 'ticks': ''},\n",
              "      'colorscale': [[0.0, '#0d0887'],\n",
              "       [0.1111111111111111, '#46039f'],\n",
              "       [0.2222222222222222, '#7201a8'],\n",
              "       [0.3333333333333333, '#9c179e'],\n",
              "       [0.4444444444444444, '#bd3786'],\n",
              "       [0.5555555555555556, '#d8576b'],\n",
              "       [0.6666666666666666, '#ed7953'],\n",
              "       [0.7777777777777778, '#fb9f3a'],\n",
              "       [0.8888888888888888, '#fdca26'],\n",
              "       [1.0, '#f0f921']]}],\n",
              "    'heatmapgl': [{'type': 'heatmapgl',\n",
              "      'colorbar': {'outlinewidth': 0, 'ticks': ''},\n",
              "      'colorscale': [[0.0, '#0d0887'],\n",
              "       [0.1111111111111111, '#46039f'],\n",
              "       [0.2222222222222222, '#7201a8'],\n",
              "       [0.3333333333333333, '#9c179e'],\n",
              "       [0.4444444444444444, '#bd3786'],\n",
              "       [0.5555555555555556, '#d8576b'],\n",
              "       [0.6666666666666666, '#ed7953'],\n",
              "       [0.7777777777777778, '#fb9f3a'],\n",
              "       [0.8888888888888888, '#fdca26'],\n",
              "       [1.0, '#f0f921']]}],\n",
              "    'contourcarpet': [{'type': 'contourcarpet',\n",
              "      'colorbar': {'outlinewidth': 0, 'ticks': ''}}],\n",
              "    'contour': [{'type': 'contour',\n",
              "      'colorbar': {'outlinewidth': 0, 'ticks': ''},\n",
              "      'colorscale': [[0.0, '#0d0887'],\n",
              "       [0.1111111111111111, '#46039f'],\n",
              "       [0.2222222222222222, '#7201a8'],\n",
              "       [0.3333333333333333, '#9c179e'],\n",
              "       [0.4444444444444444, '#bd3786'],\n",
              "       [0.5555555555555556, '#d8576b'],\n",
              "       [0.6666666666666666, '#ed7953'],\n",
              "       [0.7777777777777778, '#fb9f3a'],\n",
              "       [0.8888888888888888, '#fdca26'],\n",
              "       [1.0, '#f0f921']]}],\n",
              "    'surface': [{'type': 'surface',\n",
              "      'colorbar': {'outlinewidth': 0, 'ticks': ''},\n",
              "      'colorscale': [[0.0, '#0d0887'],\n",
              "       [0.1111111111111111, '#46039f'],\n",
              "       [0.2222222222222222, '#7201a8'],\n",
              "       [0.3333333333333333, '#9c179e'],\n",
              "       [0.4444444444444444, '#bd3786'],\n",
              "       [0.5555555555555556, '#d8576b'],\n",
              "       [0.6666666666666666, '#ed7953'],\n",
              "       [0.7777777777777778, '#fb9f3a'],\n",
              "       [0.8888888888888888, '#fdca26'],\n",
              "       [1.0, '#f0f921']]}],\n",
              "    'mesh3d': [{'type': 'mesh3d',\n",
              "      'colorbar': {'outlinewidth': 0, 'ticks': ''}}],\n",
              "    'scatter': [{'type': 'scatter',\n",
              "      'marker': {'colorbar': {'outlinewidth': 0, 'ticks': ''}}}],\n",
              "    'parcoords': [{'type': 'parcoords',\n",
              "      'line': {'colorbar': {'outlinewidth': 0, 'ticks': ''}}}],\n",
              "    'scatterpolargl': [{'type': 'scatterpolargl',\n",
              "      'marker': {'colorbar': {'outlinewidth': 0, 'ticks': ''}}}],\n",
              "    'bar': [{'error_x': {'color': '#2a3f5f'},\n",
              "      'error_y': {'color': '#2a3f5f'},\n",
              "      'marker': {'line': {'color': '#E5ECF6', 'width': 0.5}},\n",
              "      'type': 'bar'}],\n",
              "    'scattergeo': [{'type': 'scattergeo',\n",
              "      'marker': {'colorbar': {'outlinewidth': 0, 'ticks': ''}}}],\n",
              "    'scatterpolar': [{'type': 'scatterpolar',\n",
              "      'marker': {'colorbar': {'outlinewidth': 0, 'ticks': ''}}}],\n",
              "    'histogram': [{'type': 'histogram',\n",
              "      'marker': {'colorbar': {'outlinewidth': 0, 'ticks': ''}}}],\n",
              "    'scattergl': [{'type': 'scattergl',\n",
              "      'marker': {'colorbar': {'outlinewidth': 0, 'ticks': ''}}}],\n",
              "    'scatter3d': [{'type': 'scatter3d',\n",
              "      'line': {'colorbar': {'outlinewidth': 0, 'ticks': ''}},\n",
              "      'marker': {'colorbar': {'outlinewidth': 0, 'ticks': ''}}}],\n",
              "    'scattermapbox': [{'type': 'scattermapbox',\n",
              "      'marker': {'colorbar': {'outlinewidth': 0, 'ticks': ''}}}],\n",
              "    'scatterternary': [{'type': 'scatterternary',\n",
              "      'marker': {'colorbar': {'outlinewidth': 0, 'ticks': ''}}}],\n",
              "    'scattercarpet': [{'type': 'scattercarpet',\n",
              "      'marker': {'colorbar': {'outlinewidth': 0, 'ticks': ''}}}],\n",
              "    'carpet': [{'aaxis': {'endlinecolor': '#2a3f5f',\n",
              "       'gridcolor': 'white',\n",
              "       'linecolor': 'white',\n",
              "       'minorgridcolor': 'white',\n",
              "       'startlinecolor': '#2a3f5f'},\n",
              "      'baxis': {'endlinecolor': '#2a3f5f',\n",
              "       'gridcolor': 'white',\n",
              "       'linecolor': 'white',\n",
              "       'minorgridcolor': 'white',\n",
              "       'startlinecolor': '#2a3f5f'},\n",
              "      'type': 'carpet'}],\n",
              "    'table': [{'cells': {'fill': {'color': '#EBF0F8'},\n",
              "       'line': {'color': 'white'}},\n",
              "      'header': {'fill': {'color': '#C8D4E3'}, 'line': {'color': 'white'}},\n",
              "      'type': 'table'}],\n",
              "    'barpolar': [{'marker': {'line': {'color': '#E5ECF6', 'width': 0.5}},\n",
              "      'type': 'barpolar'}],\n",
              "    'pie': [{'automargin': True, 'type': 'pie'}]},\n",
              "   'layout': {'colorway': ['#636efa',\n",
              "     '#EF553B',\n",
              "     '#00cc96',\n",
              "     '#ab63fa',\n",
              "     '#FFA15A',\n",
              "     '#19d3f3',\n",
              "     '#FF6692',\n",
              "     '#B6E880',\n",
              "     '#FF97FF',\n",
              "     '#FECB52'],\n",
              "    'font': {'color': '#2a3f5f'},\n",
              "    'hovermode': 'closest',\n",
              "    'hoverlabel': {'align': 'left'},\n",
              "    'paper_bgcolor': 'white',\n",
              "    'plot_bgcolor': '#E5ECF6',\n",
              "    'polar': {'bgcolor': '#E5ECF6',\n",
              "     'angularaxis': {'gridcolor': 'white', 'linecolor': 'white', 'ticks': ''},\n",
              "     'radialaxis': {'gridcolor': 'white', 'linecolor': 'white', 'ticks': ''}},\n",
              "    'ternary': {'bgcolor': '#E5ECF6',\n",
              "     'aaxis': {'gridcolor': 'white', 'linecolor': 'white', 'ticks': ''},\n",
              "     'baxis': {'gridcolor': 'white', 'linecolor': 'white', 'ticks': ''},\n",
              "     'caxis': {'gridcolor': 'white', 'linecolor': 'white', 'ticks': ''}},\n",
              "    'coloraxis': {'colorbar': {'outlinewidth': 0, 'ticks': ''}},\n",
              "    'colorscale': {'sequential': [[0.0, '#0d0887'],\n",
              "      [0.1111111111111111, '#46039f'],\n",
              "      [0.2222222222222222, '#7201a8'],\n",
              "      [0.3333333333333333, '#9c179e'],\n",
              "      [0.4444444444444444, '#bd3786'],\n",
              "      [0.5555555555555556, '#d8576b'],\n",
              "      [0.6666666666666666, '#ed7953'],\n",
              "      [0.7777777777777778, '#fb9f3a'],\n",
              "      [0.8888888888888888, '#fdca26'],\n",
              "      [1.0, '#f0f921']],\n",
              "     'sequentialminus': [[0.0, '#0d0887'],\n",
              "      [0.1111111111111111, '#46039f'],\n",
              "      [0.2222222222222222, '#7201a8'],\n",
              "      [0.3333333333333333, '#9c179e'],\n",
              "      [0.4444444444444444, '#bd3786'],\n",
              "      [0.5555555555555556, '#d8576b'],\n",
              "      [0.6666666666666666, '#ed7953'],\n",
              "      [0.7777777777777778, '#fb9f3a'],\n",
              "      [0.8888888888888888, '#fdca26'],\n",
              "      [1.0, '#f0f921']],\n",
              "     'diverging': [[0, '#8e0152'],\n",
              "      [0.1, '#c51b7d'],\n",
              "      [0.2, '#de77ae'],\n",
              "      [0.3, '#f1b6da'],\n",
              "      [0.4, '#fde0ef'],\n",
              "      [0.5, '#f7f7f7'],\n",
              "      [0.6, '#e6f5d0'],\n",
              "      [0.7, '#b8e186'],\n",
              "      [0.8, '#7fbc41'],\n",
              "      [0.9, '#4d9221'],\n",
              "      [1, '#276419']]},\n",
              "    'xaxis': {'gridcolor': 'white',\n",
              "     'linecolor': 'white',\n",
              "     'ticks': '',\n",
              "     'title': {'standoff': 15},\n",
              "     'zerolinecolor': 'white',\n",
              "     'automargin': True,\n",
              "     'zerolinewidth': 2},\n",
              "    'yaxis': {'gridcolor': 'white',\n",
              "     'linecolor': 'white',\n",
              "     'ticks': '',\n",
              "     'title': {'standoff': 15},\n",
              "     'zerolinecolor': 'white',\n",
              "     'automargin': True,\n",
              "     'zerolinewidth': 2},\n",
              "    'scene': {'xaxis': {'backgroundcolor': '#E5ECF6',\n",
              "      'gridcolor': 'white',\n",
              "      'linecolor': 'white',\n",
              "      'showbackground': True,\n",
              "      'ticks': '',\n",
              "      'zerolinecolor': 'white',\n",
              "      'gridwidth': 2},\n",
              "     'yaxis': {'backgroundcolor': '#E5ECF6',\n",
              "      'gridcolor': 'white',\n",
              "      'linecolor': 'white',\n",
              "      'showbackground': True,\n",
              "      'ticks': '',\n",
              "      'zerolinecolor': 'white',\n",
              "      'gridwidth': 2},\n",
              "     'zaxis': {'backgroundcolor': '#E5ECF6',\n",
              "      'gridcolor': 'white',\n",
              "      'linecolor': 'white',\n",
              "      'showbackground': True,\n",
              "      'ticks': '',\n",
              "      'zerolinecolor': 'white',\n",
              "      'gridwidth': 2}},\n",
              "    'shapedefaults': {'line': {'color': '#2a3f5f'}},\n",
              "    'annotationdefaults': {'arrowcolor': '#2a3f5f',\n",
              "     'arrowhead': 0,\n",
              "     'arrowwidth': 1},\n",
              "    'geo': {'bgcolor': 'white',\n",
              "     'landcolor': '#E5ECF6',\n",
              "     'subunitcolor': 'white',\n",
              "     'showland': True,\n",
              "     'showlakes': True,\n",
              "     'lakecolor': 'white'},\n",
              "    'title': {'x': 0.05},\n",
              "    'mapbox': {'style': 'light'}}},\n",
              "  'legend': {'tracegroupgap': 0},\n",
              "  'title': {'text': 'Visitors to Spain'}}}"
            ]
          },
          "execution_count": 25,
          "metadata": {},
          "output_type": "execute_result"
        }
      ],
      "metadata": {
        "ExecuteTime": {
          "end_time": "2020-10-15T13:01:03.646716Z",
          "start_time": "2020-10-15T13:01:03.586856Z"
        }
      }
    },
    {
      "id": "c186b745-8e0b-45e1-8270-f6c561b7cbef",
      "cell_type": "code",
      "source": [
        "# 1. using fig.update_layout\n",
        "fig.update_layout(title=\"Visitors to Spain\",\n",
        "                  yaxis_tickformat = '.2f',\n",
        "                  xaxis_title=\"X-axis title \",\n",
        "                  yaxis = {\"title\": \"Y-axis with updated numeric format\",\n",
        "                          \"range\": [10000000,120000000],\n",
        "                          \"scaleanchor\": \"x19\"}\n",
        "                  ,xaxis={})\n",
        "fig.show()"
      ],
      "outputs": [],
      "metadata": {
        "ExecuteTime": {
          "end_time": "2020-10-15T13:01:03.662645Z",
          "start_time": "2020-10-15T13:01:03.647681Z"
        }
      }
    },
    {
      "id": "193bbec7-6602-447a-a18c-cd3ca0650be0",
      "cell_type": "code",
      "source": [
        "# 2. update axes using fig.update_yaxes\n",
        "# parameters of the yaxis can be found in the doc - \n",
        "# https://plotly.com/python-api-reference/generated/plotly.graph_objects.layout.yaxis.html?highlight=yaxis#module-plotly.graph_objects.layout.yaxis\n",
        "fig.update_yaxes(title_text=\"different axis title\", \n",
        "                 type=\"linear\", \n",
        "                 ticks=\"inside\", \n",
        "                 color=\"red\")"
      ],
      "outputs": [],
      "metadata": {
        "ExecuteTime": {
          "end_time": "2020-10-15T13:01:03.692560Z",
          "start_time": "2020-10-15T13:01:03.664634Z"
        }
      }
    },
    {
      "id": "97605199-c86d-4da1-8730-40dfb42b6dad",
      "cell_type": "code",
      "source": [
        "# Updating the layout by modifying charts dictionary.\n",
        "# standoff is the distance between the tick labels and the axis title\n",
        "fig[\"layout\"][\"yaxis\"][\"title\"][\"text\"] = \"Y-Axis\"\n",
        "fig[\"layout\"][\"yaxis\"][\"title\"][\"standoff\"] = 150\n",
        "fig[\"layout\"][\"yaxis\"][\"title\"][\"font\"][\"size\"] = 22\n",
        "fig.show()"
      ],
      "outputs": [],
      "metadata": {
        "ExecuteTime": {
          "end_time": "2020-10-15T13:01:03.708517Z",
          "start_time": "2020-10-15T13:01:03.693558Z"
        }
      }
    },
    {
      "id": "bb6b47be-df5d-42f1-a53c-e926e4727551",
      "cell_type": "markdown",
      "source": [
        "## Templates"
      ],
      "outputs": [],
      "metadata": {
        "ExecuteTime": {
          "end_time": "2020-08-29T20:57:42.638460Z",
          "start_time": "2020-08-29T20:57:42.634502Z"
        }
      }
    },
    {
      "id": "c9ecd9e6-d0be-4a2a-aab4-4ac8d8b022b4",
      "cell_type": "code",
      "source": [
        "def fig_reset():\n",
        "    \"\"\"Initialize basic chart\"\"\"\n",
        "    return px.line(spfrit, x=\"years\", y=\"visitors\",\n",
        "                   color=\"Country Name\",\n",
        "                   title=\"International Visitors\")\n"
      ],
      "outputs": [],
      "metadata": {
        "ExecuteTime": {
          "end_time": "2020-10-15T13:01:03.724474Z",
          "start_time": "2020-10-15T13:01:03.710511Z"
        }
      }
    },
    {
      "id": "bc1c7d74-4285-4b41-bce0-8ab8b8973735",
      "cell_type": "code",
      "source": [
        "fig = fig_reset()\n",
        "fig.update_layout(template=\"plotly_dark\")"
      ],
      "outputs": [],
      "metadata": {
        "ExecuteTime": {
          "end_time": "2020-10-15T13:01:03.787307Z",
          "start_time": "2020-10-15T13:01:03.725471Z"
        }
      }
    },
    {
      "id": "16649400-f700-4c08-88a5-8e40c523e15f",
      "cell_type": "markdown",
      "source": [
        "## X and Y-axis\n",
        "Axes are controlling wide range of parameters, like gridlines, ticks, ticklabels, axes titles, spikes, "
      ],
      "outputs": [],
      "metadata": {}
    },
    {
      "id": "5ddc1395-0b60-4eb8-a70b-16fa230d362f",
      "cell_type": "code",
      "source": [
        "df = pd.DataFrame({\"values\": [-2,0,1,2,3,4,4,5,6,7,8]})\n",
        "fig = px.line(df, y=\"values\", color_discrete_sequence=[\"#f66e20\"])\n",
        "fig.update_layout(\n",
        "                template=\"plotly_white\",\n",
        "                title={\"text\":\"Axis Elements\", \"font\": {\"size\": 25}, \"x\": 0.5, \"y\": 0.95},\n",
        "                yaxis={\n",
        "                        \"zerolinecolor\": \"black\",\n",
        "                        \"gridcolor\": \"#0071b3\",\n",
        "                        \"linecolor\": \"#fab22e\",\n",
        "                        \"spikecolor\": \"#cb001c\",\n",
        "                        \"spikesnap\": \"hovered data\",\n",
        "                        \"ticks\": \"inside\",\n",
        "                        \"tickangle\": 30,\n",
        "                        \"ticklen\": 10,\n",
        "                        \"tickwidth\": 2,\n",
        "                        \"tickcolor\": \"#35b729\",\n",
        "                        \"showticklabels\": True,},\n",
        "                 annotations=[\n",
        "                             {\"x\":9, \"y\":0, \"ay\": -40, \n",
        "                               \"text\": \"zeroline\",\n",
        "                               \"arrowhead\": 3, \"showarrow\":True,\n",
        "                                \"font\": {\"size\": 15}},\n",
        "                             {\"x\":7, \"y\":2, \"ay\": 40, \n",
        "                               \"text\": \"gridline\",\n",
        "                               \"arrowhead\": 3, \"showarrow\":True,\n",
        "                               \"font\":{\"color\":\"#0071b3\", \"size\": 15}},\n",
        "                             {\"x\":3, \"y\":3, \"ay\": -60,  \n",
        "                               \"text\": \"spike\",\n",
        "                               \"arrowhead\": 3, \"showarrow\":True,\n",
        "                               \"font\":{\"color\":\"#cb001c\", \"size\": 15}},\n",
        "                             {\"x\":0.0, \"y\": 7, \"ax\": 60, \"ay\": 0,\n",
        "                               \"text\": \"line\",\n",
        "                               \"arrowhead\": 3, \"showarrow\":True,\n",
        "                               \"bgcolor\":\"#fab22e\",\n",
        "                               \"font\": {\"size\": 15}},\n",
        "                             {\"x\":0.05, \"y\":4.10, \"ax\": 60, \"ay\": -35, \n",
        "                               \"text\": \"ticks\",\n",
        "                               \"arrowhead\": 3, \"showarrow\":True,\n",
        "                              \"font\":{\"color\":\"#35b729\", \"size\": 15}},\n",
        "                             {\"x\":0.05, \"y\":5.90, \"ax\": 45, \"ay\": 25, \n",
        "                               \"arrowhead\": 3, \"showarrow\":True,\n",
        "                              \"font\":{\"color\":\"#35b729\", \"size\": 15}}],\n",
        "                    xaxis={\"range\":[0,10]})"
      ],
      "outputs": [],
      "metadata": {
        "ExecuteTime": {
          "end_time": "2020-10-15T13:01:03.864101Z",
          "start_time": "2020-10-15T13:01:03.788304Z"
        }
      }
    },
    {
      "id": "6df94e97-f703-4b13-b926-f9ddb3ada868",
      "cell_type": "markdown",
      "source": [
        "### Grid Ranges"
      ],
      "outputs": [],
      "metadata": {}
    },
    {
      "id": "7adaebe4-3427-45b9-a802-ed16fbb02f9a",
      "cell_type": "code",
      "source": [
        "fig = fig_reset()\n",
        "# y-ticks are precise location\n",
        "fig.update_layout(yaxis={\"tickvals\":[40000000,70000000], \"title\": \"visitors\"})"
      ],
      "outputs": [],
      "metadata": {
        "ExecuteTime": {
          "end_time": "2020-10-15T13:01:03.972811Z",
          "start_time": "2020-10-15T13:01:03.865098Z"
        }
      }
    },
    {
      "id": "c17b5917-eda0-418b-9581-19d0bbe87155",
      "cell_type": "code",
      "source": [
        "# there is 5 y-ticks\n",
        "fig = fig_reset()\n",
        "fig.update_layout(yaxis={\"tickmode\": \"auto\",\n",
        "                         #\"tick0\": 11000000, \n",
        "                         #\"dtick\":6000000,\n",
        "                         \"nticks\": 5,\n",
        "                         \"title\": \"visitors\"})"
      ],
      "outputs": [],
      "metadata": {
        "ExecuteTime": {
          "end_time": "2020-10-15T13:01:04.019685Z",
          "start_time": "2020-10-15T13:01:03.973810Z"
        }
      }
    },
    {
      "id": "df74d2e4-7dfa-4c1f-b537-d024a709cb83",
      "cell_type": "code",
      "source": [
        "# ticks start at 11M and appear every 6M\n",
        "fig = fig_reset()\n",
        "fig.update_layout(yaxis={\"tickmode\": \"linear\",\n",
        "                         \"tick0\": 11000000, \n",
        "                         \"dtick\":6000000,\n",
        "                         \"title\": \"visitors\"\n",
        "                         })"
      ],
      "outputs": [],
      "metadata": {
        "ExecuteTime": {
          "end_time": "2020-10-15T13:01:04.067563Z",
          "start_time": "2020-10-15T13:01:04.020690Z"
        }
      }
    },
    {
      "id": "9e32a969-ade6-4776-839d-f30b0132658d",
      "cell_type": "markdown",
      "source": [
        "### Range slider"
      ],
      "outputs": [],
      "metadata": {}
    },
    {
      "id": "86cddd1c-f66d-418c-b1e0-9c588e177d4a",
      "cell_type": "code",
      "source": [
        "fig = px.line(melted_df[melted_df[\"Country Name\"].isin([\"France\",\"Italy\",\"Spain\"])], \n",
        "        x=\"years\", \n",
        "        y=\"visitors\", \n",
        "        line_dash =\"Country Name\",\n",
        "        title=\"Range Slider\")\n",
        "fig.update_xaxes(rangeslider_visible=True)"
      ],
      "outputs": [],
      "metadata": {}
    },
    {
      "id": "cbe6112f-958d-47e9-9da1-bef13599151a",
      "cell_type": "markdown",
      "source": [
        "### Axis types\n",
        "Our x-axis is of the `string` (object) type, but plotly turns it into float. If you look into the plotly's figure dictionary it still looks as a string, but when you zoom the chart, plotly automatically add extra grids with decimal values."
      ],
      "outputs": [],
      "metadata": {}
    },
    {
      "id": "349e84fd-f812-4802-a044-4aa2f25c3007",
      "cell_type": "code",
      "source": [
        "fig[\"data\"][0][\"x\"]"
      ],
      "outputs": [
        {
          "data": {
            "text/plain": [
              "array(['1995', '1996', '1997', '1998', '1999', '2000', '2001', '2002',\n",
              "       '2003', '2004', '2005', '2006', '2007', '2008', '2009', '2010',\n",
              "       '2011', '2012', '2013', '2014', '2015', '2016', '2017', '2018'],\n",
              "      dtype=object)"
            ]
          },
          "execution_count": 36,
          "metadata": {},
          "output_type": "execute_result"
        }
      ],
      "metadata": {}
    },
    {
      "id": "3d6649fc-3fad-4619-bdaf-6ca8c96bc39c",
      "cell_type": "code",
      "source": [
        "fig = px.line(spfrit, \n",
        "        x=\"years\", \n",
        "        y=\"visitors\", \n",
        "        line_dash =\"Country Name\",\n",
        "        range_x=[2004,2006])\n",
        "fig.show()"
      ],
      "outputs": [],
      "metadata": {}
    },
    {
      "id": "0218058c-13c3-4187-8f91-144596992dce",
      "cell_type": "code",
      "source": [
        "# because our values are rather dates, let's turn it into date.\n",
        "spfrit[\"years\"] = pd.to_datetime(spfrit[\"years\"], format=\"%Y\")\n",
        "fig = px.line(spfrit, \n",
        "        x=\"years\", \n",
        "        y=\"visitors\", \n",
        "        line_dash =\"Country Name\",\n",
        "        # since range_x accepts a list with two values - start and end, we can use pandas daterange with 2 values\n",
        "        range_x=pd.date_range(start='2004', periods=2, freq='2Y').to_list())\n",
        "fig.show()"
      ],
      "outputs": [],
      "metadata": {}
    },
    {
      "id": "b37e1e72-385c-403d-8792-7273dd73bb61",
      "cell_type": "code",
      "source": [
        "spfrit = melted_df[melted_df[\"Country Name\"].isin([\"Spain\",\"Italy\",\"France\"])]\n",
        "# turning serie used as x-axis to string or category, doesn't prevent plotly to turn it into float\n",
        "spfrit[\"years\"] = spfrit[\"years\"].astype(\"string\")\n",
        "# spfrit[\"years\"] = spfrit[\"years\"].astype(\"category\")\n",
        "fig = px.line(spfrit, \n",
        "        x=\"years\", \n",
        "        y=\"visitors\", \n",
        "        line_dash =\"Country Name\",\n",
        "        range_x=[\"2004\",\"2006\"])\n",
        "# despite the years are being string, plotly itroduces grid lines `2,004.5` and `2,005.5` which are not existing in the dataframe\n",
        "fig.show()"
      ],
      "outputs": [],
      "metadata": {}
    },
    {
      "id": "d40050fe-46cc-4649-9553-829454889681",
      "cell_type": "code",
      "source": [
        "# the fix is however simple, you need to turn the axis into a category.\n",
        "fig.update_xaxes(type='category')\n",
        "fig.show()"
      ],
      "outputs": [],
      "metadata": {}
    },
    {
      "id": "1769cd4b-98ba-444b-a169-a5ab5a4f69a4",
      "cell_type": "markdown",
      "source": [
        "# Annotations\n",
        "4 main use cases for annotation:\n",
        "\n",
        "* To highlight some point(s)\n",
        "* To describe/highlight an area\n",
        "* To label desired point\n",
        "* Instead of a legend\n",
        "\n",
        "I have said that long data structure is ideal for plotly.express. Well, sometimes you can struggle with it too. Like in this case, because the order of the lines depend when they appear in the dataframe a you cannot suprisingly assign color using `color_discrete_sequence`. So I must transform my datagrame into a dictionary with a color assigned to each country. Most countries would be `lightgrey` and the two I want to highlight will have `blue` and `red` color."
      ],
      "outputs": [],
      "metadata": {}
    },
    {
      "id": "9b0e2382-3fea-4f6e-a594-66422246f738",
      "cell_type": "code",
      "source": [
        "melted_df_jptr = melted_df.copy()\n",
        "\n",
        "# crete a dict with colors:\n",
        "colors = pd.DataFrame(melted_df_jptr[\"Country Name\"].unique(), columns=[\"Country Name\"])\n",
        "colors[\"color\"] = colors[\"Country Name\"].map({\"Japan\": \"blue\", \"Turkey\": \"red\"}).fillna(\"lightgrey\")\n",
        "\n",
        "# color map is a dict with colors, lightgrey for most, {\"Aruba\": \"lightgrey\", ... \"Japan: \"blue\", ...}\n",
        "color_map = {v[\"Country Name\"]: v[\"color\"] for k,v in colors.iterrows()}\n",
        "\n",
        "# show sample from the dictionary\n",
        "{k:color_map[k] for k in color_map if k in [\"Aruba\",\"Japan\",\"Turkey\",\"Zimbabwe\"]}"
      ],
      "outputs": [
        {
          "data": {
            "text/plain": [
              "{'Aruba': 'lightgrey',\n",
              " 'Japan': 'blue',\n",
              " 'Turkey': 'red',\n",
              " 'Zimbabwe': 'lightgrey'}"
            ]
          },
          "execution_count": 41,
          "metadata": {},
          "output_type": "execute_result"
        }
      ],
      "metadata": {
        "ExecuteTime": {
          "end_time": "2020-10-15T13:01:04.097476Z",
          "start_time": "2020-10-15T13:01:04.068557Z"
        }
      }
    },
    {
      "id": "42649969-15f8-4074-958b-684fe9ceeaa4",
      "cell_type": "code",
      "source": [
        "# sort the dataframe\n",
        "\n",
        "melted_df_jptr[\"order\"] = melted_df_jptr[\"Country Name\"].map({\"Japan\": 1, \"Turkey\": 2}).fillna(3)\n",
        "melted_df_jptr.sort_values(by=[\"order\",\"years\"], ascending=True, inplace=True)\n",
        "melted_df_jptr.head(3)"
      ],
      "outputs": [
        {
          "data": {
            "text/html": [
              "<div>\n",
              "<style scoped>\n",
              "    .dataframe tbody tr th:only-of-type {\n",
              "        vertical-align: middle;\n",
              "    }\n",
              "\n",
              "    .dataframe tbody tr th {\n",
              "        vertical-align: top;\n",
              "    }\n",
              "\n",
              "    .dataframe thead th {\n",
              "        text-align: right;\n",
              "    }\n",
              "</style>\n",
              "<table border=\"1\" class=\"dataframe\">\n",
              "  <thead>\n",
              "    <tr style=\"text-align: right;\">\n",
              "      <th></th>\n",
              "      <th>Country Name</th>\n",
              "      <th>Country Code</th>\n",
              "      <th>Region</th>\n",
              "      <th>years</th>\n",
              "      <th>visitors</th>\n",
              "      <th>order</th>\n",
              "    </tr>\n",
              "  </thead>\n",
              "  <tbody>\n",
              "    <tr>\n",
              "      <th>97</th>\n",
              "      <td>Japan</td>\n",
              "      <td>JPN</td>\n",
              "      <td>East Asia &amp; Pacific</td>\n",
              "      <td>1995</td>\n",
              "      <td>3345000.0</td>\n",
              "      <td>1.0</td>\n",
              "    </tr>\n",
              "    <tr>\n",
              "      <th>312</th>\n",
              "      <td>Japan</td>\n",
              "      <td>JPN</td>\n",
              "      <td>East Asia &amp; Pacific</td>\n",
              "      <td>1996</td>\n",
              "      <td>3837000.0</td>\n",
              "      <td>1.0</td>\n",
              "    </tr>\n",
              "    <tr>\n",
              "      <th>527</th>\n",
              "      <td>Japan</td>\n",
              "      <td>JPN</td>\n",
              "      <td>East Asia &amp; Pacific</td>\n",
              "      <td>1997</td>\n",
              "      <td>4218000.0</td>\n",
              "      <td>1.0</td>\n",
              "    </tr>\n",
              "  </tbody>\n",
              "</table>\n",
              "</div>"
            ],
            "text/plain": [
              "    Country Name Country Code               Region years   visitors  order\n",
              "97         Japan          JPN  East Asia & Pacific  1995  3345000.0    1.0\n",
              "312        Japan          JPN  East Asia & Pacific  1996  3837000.0    1.0\n",
              "527        Japan          JPN  East Asia & Pacific  1997  4218000.0    1.0"
            ]
          },
          "execution_count": 42,
          "metadata": {},
          "output_type": "execute_result"
        }
      ],
      "metadata": {
        "ExecuteTime": {
          "end_time": "2020-10-15T13:01:04.113436Z",
          "start_time": "2020-10-15T13:01:04.098474Z"
        }
      }
    },
    {
      "id": "64fad933-bd89-486e-9fd6-4e4a164098a2",
      "cell_type": "markdown",
      "source": [
        "Create the plot with the annotations.\n",
        "You can use two reference points:\n",
        "\n",
        "* \"xref\": \"paper\" where 0 is the left side of the plot and 1 the right one\n",
        "* \"xref\": \"x\" (default) which allow to annotate inside the plotting area using chart coordinates"
      ],
      "outputs": [],
      "metadata": {
        "ExecuteTime": {
          "end_time": "2020-08-30T12:45:21.210190Z",
          "start_time": "2020-08-30T12:45:21.205183Z"
        }
      }
    },
    {
      "id": "d3b94430-0618-4a0a-b9ea-e23be78f69e3",
      "cell_type": "code",
      "source": [
        "\n",
        "# but still my lines are somewhere in the middle\n",
        "fig = px.line(melted_df_jptr.sort_values(by=[\"order\",\"years\"], ascending=False),\n",
        "              x=\"years\",\n",
        "              y=\"visitors\", \n",
        "              color=\"Country Name\", \n",
        "              line_group=\"Country Name\",\n",
        "              color_discrete_map=color_map)\n",
        "\n",
        "fig.update_layout(title=\"Tourism Growth in Turkey and Japan\",\n",
        "                # remove the legent\n",
        "                showlegend=False,\n",
        "                  \n",
        "                # make y-axis invisible\n",
        "                yaxis={\"visible\":False},\n",
        "                \n",
        "                xaxis={\"type\": \"linear\"},\n",
        "                \n",
        "                # create the annoations\n",
        "                # point annotattion\n",
        "                annotations=[\n",
        "                        {\"x\":2011, \"y\":6220000, \"ay\": -40, \n",
        "                        \"text\": \"<b>Tourism Boom<br> in Japan 2011</b>\",\n",
        "                        \"arrowhead\": 3, \"showarrow\":True,\n",
        "                        \"font\": {\"size\": 15}},\n",
        "                    # area annotation\n",
        "                    {\"x\":2007, \"y\":40000000, \n",
        "                        \"text\": \"<b>Number of tourist is growing</b>\",\n",
        "                         \"textangle\": -25,\n",
        "                        \"showarrow\":False,\n",
        "                         \"bgcolor\":\"lightblue\",\n",
        "                        \"font\": {\"size\": 15}},\n",
        "                    # start of the line annotation   \n",
        "                    # use the \"xanchor\": \"right\" so that the labels stick to the right side of the plot area\n",
        "                    {\"xref\":\"paper\", \"yref\":\"paper\", \"x\":0, \"y\":0.15,\n",
        "                              \"xanchor\":'right', \"yanchor\":\"top\",\n",
        "                              \"text\":'7M',\n",
        "                              \"font\":dict(family='Arial',\n",
        "                                        size=12,\n",
        "                                        color=\"red\"),\n",
        "                              \"showarrow\":False},\n",
        "                    {\"xref\":\"paper\", \"yref\":\"paper\", \"x\":0, \"y\":0.1,\n",
        "                              \"xanchor\":'right', \"yanchor\":'top',\n",
        "                              \"text\":'3.3M',\n",
        "                              \"font\":dict(family='Arial',\n",
        "                                        size=12,\n",
        "                                        color=\"blue\"),\n",
        "                              \"showarrow\":False},\n",
        "                    # end of the line legend\n",
        "                    # use the \"xanchor\": \"left\" so that the labels stick to the right side of the plot area\n",
        "                    {\"xref\":\"paper\", \"yref\":\"paper\", \"x\":1, \"y\":0.53,\n",
        "                              \"xanchor\":\"left\", \"yanchor\":\"top\",\n",
        "                              \"text\":'Turkey (45M)',\n",
        "                              \"font\":dict(family='Arial',\n",
        "                                        size=12,\n",
        "                                        color=\"red\"),\n",
        "                              \"showarrow\":False},\n",
        "                    {\"xref\":\"paper\", \"yref\":\"paper\", \"x\":1, \"y\":0.39,\n",
        "                              \"xanchor\":'left', \"yanchor\":'top',\n",
        "                              \"text\":'Japan (31M)',\n",
        "                              \"font\":dict(family='Arial',\n",
        "                                        size=12,\n",
        "                                        color=\"blue\"),\n",
        "                              \"showarrow\":False}\n",
        "                    \n",
        "                ])\n",
        "fig.show()"
      ],
      "outputs": [],
      "metadata": {
        "ExecuteTime": {
          "end_time": "2020-10-15T13:01:05.078885Z",
          "start_time": "2020-10-15T13:01:04.114433Z"
        }
      }
    },
    {
      "id": "c5f22cb0-09e0-4a6b-94cd-6fe9e0919a44",
      "cell_type": "markdown",
      "source": [
        "You might also notice, that with increased number of lines, Plotly automatically switched to WebGL format proven to improve the usability of the JavaScript plots with many data points."
      ],
      "outputs": [],
      "metadata": {}
    },
    {
      "id": "7b8d35dc-a334-4e78-89d1-422fe4e06e6d",
      "cell_type": "code",
      "source": [
        "type(fig.data[0])"
      ],
      "outputs": [
        {
          "data": {
            "text/plain": [
              "plotly.graph_objs._scattergl.Scattergl"
            ]
          },
          "execution_count": 44,
          "metadata": {},
          "output_type": "execute_result"
        }
      ],
      "metadata": {
        "ExecuteTime": {
          "end_time": "2020-10-15T13:01:05.093814Z",
          "start_time": "2020-10-15T13:01:05.079852Z"
        }
      }
    },
    {
      "id": "ee5c42ee-276c-4055-ba7a-e50ed842d0f4",
      "cell_type": "markdown",
      "source": [
        "How to create this chart is described in the article - https://towardsdatascience.com/highlighted-line-chart-with-plotly-express-e69e2a27fea8 and notebook: https://github.com/vaclavdekanovsky/data-analysis-in-examples/blob/master/Vizualizations/Plotly/Highlighted_Line_Chart_on_Grey_Lines_Background/Highlight_Lines_on_Grey_Background.ipynb"
      ],
      "outputs": [],
      "metadata": {}
    },
    {
      "id": "e43d21da-3037-4b85-8848-e87e17c901e1",
      "cell_type": "markdown",
      "source": [
        "# Bar Chart"
      ],
      "outputs": [],
      "metadata": {
        "ExecuteTime": {
          "end_time": "2020-08-30T12:58:45.446630Z",
          "start_time": "2020-08-30T12:58:45.443640Z"
        }
      }
    },
    {
      "id": "2761d6f1-9f68-4dc2-8455-398693ca695c",
      "cell_type": "code",
      "source": [
        "fig = px.bar(spfrit, \n",
        "             y=\"visitors\", \n",
        "             x=\"years\", \n",
        "             color=\"Country Name\",\n",
        "            title=\"Visitors to Europe - Bar Mode Group\",\n",
        "            barmode='group')\n",
        "fig.update_layout(\n",
        "        xaxis={\"tick0\":1995, \"dtick\":1, \"tickangle\": 30}\n",
        ")"
      ],
      "outputs": [],
      "metadata": {
        "ExecuteTime": {
          "end_time": "2020-10-15T13:01:05.156646Z",
          "start_time": "2020-10-15T13:01:05.094819Z"
        }
      }
    },
    {
      "id": "993a3f4b-10dc-4c40-88e5-ef4b9ac0856d",
      "cell_type": "markdown",
      "source": [
        "Let's plot just year 2018 to see which country was the most often visited"
      ],
      "outputs": [],
      "metadata": {}
    },
    {
      "id": "b75bf587-d5ea-4b7a-a814-9c037443bf3a",
      "cell_type": "code",
      "source": [
        "arr_2018 = melted_df[melted_df[\"years\"]==\"2018\"]\n",
        "fig = px.bar(arr_2018.sort_values(by=\"visitors\", ascending=False), \n",
        "             y=\"visitors\", \n",
        "             x=\"Country Name\", \n",
        "            title=\"World Tourism 2018\",\n",
        "            barmode='group')\n",
        "fig.show()"
      ],
      "outputs": [],
      "metadata": {
        "ExecuteTime": {
          "end_time": "2020-10-15T13:01:05.219478Z",
          "start_time": "2020-10-15T13:01:05.158641Z"
        }
      }
    },
    {
      "id": "689600c6-36c8-4d95-adf9-69193063042d",
      "cell_type": "markdown",
      "source": [
        "The chart like this provides some information, but it's not very readable. Let's take top 15 countries and group the rest into \"Other\""
      ],
      "outputs": [],
      "metadata": {
        "ExecuteTime": {
          "end_time": "2020-08-30T13:14:21.751829Z",
          "start_time": "2020-08-30T13:14:21.747873Z"
        }
      }
    },
    {
      "id": "a8d02599-ecec-42c4-9dc4-5d512151ec50",
      "cell_type": "code",
      "source": [
        "# for the most visited in 2018 take name, for others use label \"Other\"\n",
        "arr_2018[\"2018_name\"] = arr_2018[\"Country Name\"].where(arr_2018[\"visitors\"].rank(ascending=False) <= 25, \"Other\")"
      ],
      "outputs": [
        {
          "name": "stderr",
          "output_type": "stream",
          "text": [
            "<ipython-input-47-f0926b9eeb91>:2: SettingWithCopyWarning:\n",
            "\n",
            "\n",
            "A value is trying to be set on a copy of a slice from a DataFrame.\n",
            "Try using .loc[row_indexer,col_indexer] = value instead\n",
            "\n",
            "See the caveats in the documentation: https://pandas.pydata.org/pandas-docs/stable/user_guide/indexing.html#returning-a-view-versus-a-copy\n",
            "\n"
          ]
        }
      ],
      "metadata": {
        "ExecuteTime": {
          "end_time": "2020-10-15T13:01:05.235467Z",
          "start_time": "2020-10-15T13:01:05.220475Z"
        }
      }
    },
    {
      "id": "4c288816-0a9c-4b2c-8f60-f542ce07c868",
      "cell_type": "code",
      "source": [
        "fig = px.bar(arr_2018.sort_values(by=\"visitors\", ascending=False), \n",
        "             y=\"visitors\", \n",
        "             x=\"2018_name\", \n",
        "            title=\"World Tourism 2018\",\n",
        "            barmode='group',\n",
        "             hover_data = {\"2018_name\": False, \"Country Name\": True}\n",
        "            )\n",
        "fig.show()"
      ],
      "outputs": [],
      "metadata": {
        "ExecuteTime": {
          "end_time": "2020-10-15T13:01:05.282311Z",
          "start_time": "2020-10-15T13:01:05.236434Z"
        }
      }
    },
    {
      "id": "2cdc8d9b-49c5-47d5-b9c7-9d2f0608b668",
      "cell_type": "markdown",
      "source": [
        "Top 20 counties, text labels through `text` parameter and formated using `update_traces` and changing the bar color via `color_discrete_sequence` parameter. "
      ],
      "outputs": [],
      "metadata": {}
    },
    {
      "id": "dec98527-9957-42b2-8404-ac6c8f1df721",
      "cell_type": "code",
      "source": [
        "fig = px.bar(arr_2018.sort_values(by=\"visitors\", ascending=False)[:20], \n",
        "             y=\"visitors\", \n",
        "             x=\"2018_name\", \n",
        "            title=\"World Tourism 2018\",\n",
        "            barmode='group',\n",
        "            hover_data = {\"2018_name\": False, \"Country Name\": True},\n",
        "             text=\"visitors\",\n",
        "             #color=\"2018_name\"  # for some reason it makes the bars very thin\n",
        "             color_discrete_sequence =[\"#008037\"]\n",
        "            )\n",
        "fig.update_traces(texttemplate='%{text:.2s}', \n",
        "                  textposition=\"outside\",\n",
        "                 )\n",
        "fig.update_layout(xaxis={\"title\":\"countries\"})\n",
        "fig.show()"
      ],
      "outputs": [],
      "metadata": {
        "ExecuteTime": {
          "end_time": "2020-10-15T13:01:05.328188Z",
          "start_time": "2020-10-15T13:01:05.285305Z"
        }
      }
    },
    {
      "id": "337ff8fc-f734-47f3-8b96-879555076b29",
      "cell_type": "code",
      "source": [
        "arr_2018"
      ],
      "outputs": [
        {
          "data": {
            "text/html": [
              "<div>\n",
              "<style scoped>\n",
              "    .dataframe tbody tr th:only-of-type {\n",
              "        vertical-align: middle;\n",
              "    }\n",
              "\n",
              "    .dataframe tbody tr th {\n",
              "        vertical-align: top;\n",
              "    }\n",
              "\n",
              "    .dataframe thead th {\n",
              "        text-align: right;\n",
              "    }\n",
              "</style>\n",
              "<table border=\"1\" class=\"dataframe\">\n",
              "  <thead>\n",
              "    <tr style=\"text-align: right;\">\n",
              "      <th></th>\n",
              "      <th>Country Name</th>\n",
              "      <th>Country Code</th>\n",
              "      <th>Region</th>\n",
              "      <th>years</th>\n",
              "      <th>visitors</th>\n",
              "      <th>2018_name</th>\n",
              "    </tr>\n",
              "  </thead>\n",
              "  <tbody>\n",
              "    <tr>\n",
              "      <th>4945</th>\n",
              "      <td>Aruba</td>\n",
              "      <td>ABW</td>\n",
              "      <td>Latin America &amp; Caribbean</td>\n",
              "      <td>2018</td>\n",
              "      <td>1082000.0</td>\n",
              "      <td>Other</td>\n",
              "    </tr>\n",
              "    <tr>\n",
              "      <th>4946</th>\n",
              "      <td>Afghanistan</td>\n",
              "      <td>AFG</td>\n",
              "      <td>South Asia</td>\n",
              "      <td>2018</td>\n",
              "      <td>NaN</td>\n",
              "      <td>Other</td>\n",
              "    </tr>\n",
              "    <tr>\n",
              "      <th>4947</th>\n",
              "      <td>Angola</td>\n",
              "      <td>AGO</td>\n",
              "      <td>Sub-Saharan Africa</td>\n",
              "      <td>2018</td>\n",
              "      <td>218000.0</td>\n",
              "      <td>Other</td>\n",
              "    </tr>\n",
              "    <tr>\n",
              "      <th>4948</th>\n",
              "      <td>Albania</td>\n",
              "      <td>ALB</td>\n",
              "      <td>Europe &amp; Central Asia</td>\n",
              "      <td>2018</td>\n",
              "      <td>5340000.0</td>\n",
              "      <td>Other</td>\n",
              "    </tr>\n",
              "    <tr>\n",
              "      <th>4949</th>\n",
              "      <td>Andorra</td>\n",
              "      <td>AND</td>\n",
              "      <td>Europe &amp; Central Asia</td>\n",
              "      <td>2018</td>\n",
              "      <td>3042000.0</td>\n",
              "      <td>Other</td>\n",
              "    </tr>\n",
              "    <tr>\n",
              "      <th>...</th>\n",
              "      <td>...</td>\n",
              "      <td>...</td>\n",
              "      <td>...</td>\n",
              "      <td>...</td>\n",
              "      <td>...</td>\n",
              "      <td>...</td>\n",
              "    </tr>\n",
              "    <tr>\n",
              "      <th>5155</th>\n",
              "      <td>Samoa</td>\n",
              "      <td>WSM</td>\n",
              "      <td>East Asia &amp; Pacific</td>\n",
              "      <td>2018</td>\n",
              "      <td>164000.0</td>\n",
              "      <td>Other</td>\n",
              "    </tr>\n",
              "    <tr>\n",
              "      <th>5156</th>\n",
              "      <td>Yemen, Rep.</td>\n",
              "      <td>YEM</td>\n",
              "      <td>Middle East &amp; North Africa</td>\n",
              "      <td>2018</td>\n",
              "      <td>NaN</td>\n",
              "      <td>Other</td>\n",
              "    </tr>\n",
              "    <tr>\n",
              "      <th>5157</th>\n",
              "      <td>South Africa</td>\n",
              "      <td>ZAF</td>\n",
              "      <td>Sub-Saharan Africa</td>\n",
              "      <td>2018</td>\n",
              "      <td>10472000.0</td>\n",
              "      <td>Other</td>\n",
              "    </tr>\n",
              "    <tr>\n",
              "      <th>5158</th>\n",
              "      <td>Zambia</td>\n",
              "      <td>ZMB</td>\n",
              "      <td>Sub-Saharan Africa</td>\n",
              "      <td>2018</td>\n",
              "      <td>1072000.0</td>\n",
              "      <td>Other</td>\n",
              "    </tr>\n",
              "    <tr>\n",
              "      <th>5159</th>\n",
              "      <td>Zimbabwe</td>\n",
              "      <td>ZWE</td>\n",
              "      <td>Sub-Saharan Africa</td>\n",
              "      <td>2018</td>\n",
              "      <td>2580000.0</td>\n",
              "      <td>Other</td>\n",
              "    </tr>\n",
              "  </tbody>\n",
              "</table>\n",
              "<p>215 rows × 6 columns</p>\n",
              "</div>"
            ],
            "text/plain": [
              "      Country Name Country Code                      Region years    visitors  \\\n",
              "4945         Aruba          ABW   Latin America & Caribbean  2018   1082000.0   \n",
              "4946   Afghanistan          AFG                  South Asia  2018         NaN   \n",
              "4947        Angola          AGO          Sub-Saharan Africa  2018    218000.0   \n",
              "4948       Albania          ALB       Europe & Central Asia  2018   5340000.0   \n",
              "4949       Andorra          AND       Europe & Central Asia  2018   3042000.0   \n",
              "...            ...          ...                         ...   ...         ...   \n",
              "5155         Samoa          WSM         East Asia & Pacific  2018    164000.0   \n",
              "5156   Yemen, Rep.          YEM  Middle East & North Africa  2018         NaN   \n",
              "5157  South Africa          ZAF          Sub-Saharan Africa  2018  10472000.0   \n",
              "5158        Zambia          ZMB          Sub-Saharan Africa  2018   1072000.0   \n",
              "5159      Zimbabwe          ZWE          Sub-Saharan Africa  2018   2580000.0   \n",
              "\n",
              "     2018_name  \n",
              "4945     Other  \n",
              "4946     Other  \n",
              "4947     Other  \n",
              "4948     Other  \n",
              "4949     Other  \n",
              "...        ...  \n",
              "5155     Other  \n",
              "5156     Other  \n",
              "5157     Other  \n",
              "5158     Other  \n",
              "5159     Other  \n",
              "\n",
              "[215 rows x 6 columns]"
            ]
          },
          "execution_count": 50,
          "metadata": {},
          "output_type": "execute_result"
        }
      ],
      "metadata": {
        "ExecuteTime": {
          "end_time": "2020-10-15T13:01:05.360103Z",
          "start_time": "2020-10-15T13:01:05.330185Z"
        }
      }
    },
    {
      "id": "510a9060-8b3f-49b5-904a-f9f086f9d249",
      "cell_type": "markdown",
      "source": [
        "The other column is still too high, you can play with it and split it by continent. But let's explore another feature of Plotly, the continuous color scale. If we set color as a column with numerical range, rather than categorical, we automatically get the continuous color scale. You can apply various predefined color scales:\n",
        "https://plotly.com/python/builtin-colorscales/"
      ],
      "outputs": [],
      "metadata": {
        "ExecuteTime": {
          "end_time": "2020-08-30T13:23:27.684426Z",
          "start_time": "2020-08-30T13:23:27.680435Z"
        }
      }
    },
    {
      "id": "18853b57-32d3-44da-a57c-a6723cf5812e",
      "cell_type": "code",
      "source": [
        "fig = px.bar(arr_2018.fillna(0).sort_values(by=\"visitors\", ascending=False), \n",
        "             y=\"visitors\", \n",
        "             x=\"2018_name\", \n",
        "            title=\"World Tourism 2018\",\n",
        "            barmode='group',\n",
        "             hover_data = {\"2018_name\": False, \"Country Name\": True},\n",
        "             color = \"visitors\",\n",
        "             color_continuous_scale=px.colors.sequential.Viridis\n",
        "            )\n",
        "fig.update_layout(xaxis={\"title\":\"countries\"})\n",
        "fig.show()"
      ],
      "outputs": [],
      "metadata": {
        "ExecuteTime": {
          "end_time": "2020-10-15T13:01:05.439926Z",
          "start_time": "2020-10-15T13:01:05.361102Z"
        }
      }
    },
    {
      "id": "01a9ad12-b2cc-4d96-9009-9a67dc39d997",
      "cell_type": "markdown",
      "source": [
        "## Combine bar and line chart"
      ],
      "outputs": [],
      "metadata": {}
    },
    {
      "id": "281709d6-3a59-4bd4-a054-9af8e7acac99",
      "cell_type": "code",
      "source": [
        "# Create simple dataset\n",
        "df = pd.DataFrame({\"revenue\":[100,200,300], \"cost\":[-150,-150,-200], \"year\":[2018,2019,2020]})\n",
        "df[\"profit\"] = df[\"revenue\"]+df[\"cost\"]"
      ],
      "outputs": [],
      "metadata": {
        "ExecuteTime": {
          "end_time": "2020-10-15T13:01:05.455847Z",
          "start_time": "2020-10-15T13:01:05.440888Z"
        }
      }
    },
    {
      "id": "c0a70e68-f5ff-44e1-bd45-75de3d694e97",
      "cell_type": "code",
      "source": [
        "# adding line to a bar doesn't work\n",
        "\n",
        "fig = px.bar(df, x=\"year\", y=[\"revenue\",\"cost\"], title=\"Bar chart without any line\")\n",
        "try:\n",
        "    fig.add_line(x=df[\"year\"],y=df[\"profit\"])\n",
        "except Exception as e:\n",
        "    print(e)\n",
        "fig.show()"
      ],
      "outputs": [],
      "metadata": {
        "ExecuteTime": {
          "end_time": "2020-10-15T13:01:05.501730Z",
          "start_time": "2020-10-15T13:01:05.456846Z"
        }
      }
    },
    {
      "id": "b538800e-7355-4759-bc19-25377a9835f7",
      "cell_type": "code",
      "source": [
        "# adding bars to line chart is possible, but not very flexible. \n",
        "fig = px.line(df, x=\"year\", y=\"profit\", title=\"Profit\")\n",
        "fig.add_bar(x=df[\"year\"],y=df[\"revenue\"], name=\"revenue\")\n",
        "fig.add_bar(x=df[\"year\"],y=df[\"cost\"], name=\"cost\")\n",
        "fig.show()"
      ],
      "outputs": [],
      "metadata": {
        "ExecuteTime": {
          "end_time": "2020-10-15T13:01:05.547602Z",
          "start_time": "2020-10-15T13:01:05.502722Z"
        }
      }
    },
    {
      "id": "f11e9552-4d17-4b51-9c21-ff9e5e21be07",
      "cell_type": "code",
      "source": [
        "pd.concat(data)"
      ],
      "outputs": [
        {
          "data": {
            "text/html": [
              "<div>\n",
              "<style scoped>\n",
              "    .dataframe tbody tr th:only-of-type {\n",
              "        vertical-align: middle;\n",
              "    }\n",
              "\n",
              "    .dataframe tbody tr th {\n",
              "        vertical-align: top;\n",
              "    }\n",
              "\n",
              "    .dataframe thead th {\n",
              "        text-align: right;\n",
              "    }\n",
              "</style>\n",
              "<table border=\"1\" class=\"dataframe\">\n",
              "  <thead>\n",
              "    <tr style=\"text-align: right;\">\n",
              "      <th></th>\n",
              "      <th>Country Name</th>\n",
              "      <th>Country Code</th>\n",
              "      <th>Region</th>\n",
              "      <th>years</th>\n",
              "      <th>visitors</th>\n",
              "      <th>year_upto</th>\n",
              "    </tr>\n",
              "  </thead>\n",
              "  <tbody>\n",
              "    <tr>\n",
              "      <th>58</th>\n",
              "      <td>Spain</td>\n",
              "      <td>ESP</td>\n",
              "      <td>Europe &amp; Central Asia</td>\n",
              "      <td>1995</td>\n",
              "      <td>32971000.0</td>\n",
              "      <td>1995</td>\n",
              "    </tr>\n",
              "    <tr>\n",
              "      <th>63</th>\n",
              "      <td>France</td>\n",
              "      <td>FRA</td>\n",
              "      <td>Europe &amp; Central Asia</td>\n",
              "      <td>1995</td>\n",
              "      <td>60033000.0</td>\n",
              "      <td>1995</td>\n",
              "    </tr>\n",
              "    <tr>\n",
              "      <th>94</th>\n",
              "      <td>Italy</td>\n",
              "      <td>ITA</td>\n",
              "      <td>Europe &amp; Central Asia</td>\n",
              "      <td>1995</td>\n",
              "      <td>31052000.0</td>\n",
              "      <td>1995</td>\n",
              "    </tr>\n",
              "    <tr>\n",
              "      <th>58</th>\n",
              "      <td>Spain</td>\n",
              "      <td>ESP</td>\n",
              "      <td>Europe &amp; Central Asia</td>\n",
              "      <td>1995</td>\n",
              "      <td>32971000.0</td>\n",
              "      <td>1996</td>\n",
              "    </tr>\n",
              "    <tr>\n",
              "      <th>63</th>\n",
              "      <td>France</td>\n",
              "      <td>FRA</td>\n",
              "      <td>Europe &amp; Central Asia</td>\n",
              "      <td>1995</td>\n",
              "      <td>60033000.0</td>\n",
              "      <td>1996</td>\n",
              "    </tr>\n",
              "    <tr>\n",
              "      <th>...</th>\n",
              "      <td>...</td>\n",
              "      <td>...</td>\n",
              "      <td>...</td>\n",
              "      <td>...</td>\n",
              "      <td>...</td>\n",
              "      <td>...</td>\n",
              "    </tr>\n",
              "    <tr>\n",
              "      <th>4793</th>\n",
              "      <td>France</td>\n",
              "      <td>FRA</td>\n",
              "      <td>Europe &amp; Central Asia</td>\n",
              "      <td>2017</td>\n",
              "      <td>86758000.0</td>\n",
              "      <td>2018</td>\n",
              "    </tr>\n",
              "    <tr>\n",
              "      <th>4824</th>\n",
              "      <td>Italy</td>\n",
              "      <td>ITA</td>\n",
              "      <td>Europe &amp; Central Asia</td>\n",
              "      <td>2017</td>\n",
              "      <td>58253000.0</td>\n",
              "      <td>2018</td>\n",
              "    </tr>\n",
              "    <tr>\n",
              "      <th>5003</th>\n",
              "      <td>Spain</td>\n",
              "      <td>ESP</td>\n",
              "      <td>Europe &amp; Central Asia</td>\n",
              "      <td>2018</td>\n",
              "      <td>82773000.0</td>\n",
              "      <td>2018</td>\n",
              "    </tr>\n",
              "    <tr>\n",
              "      <th>5008</th>\n",
              "      <td>France</td>\n",
              "      <td>FRA</td>\n",
              "      <td>Europe &amp; Central Asia</td>\n",
              "      <td>2018</td>\n",
              "      <td>89322000.0</td>\n",
              "      <td>2018</td>\n",
              "    </tr>\n",
              "    <tr>\n",
              "      <th>5039</th>\n",
              "      <td>Italy</td>\n",
              "      <td>ITA</td>\n",
              "      <td>Europe &amp; Central Asia</td>\n",
              "      <td>2018</td>\n",
              "      <td>61567200.0</td>\n",
              "      <td>2018</td>\n",
              "    </tr>\n",
              "  </tbody>\n",
              "</table>\n",
              "<p>900 rows × 6 columns</p>\n",
              "</div>"
            ],
            "text/plain": [
              "     Country Name Country Code                 Region years    visitors  \\\n",
              "58          Spain          ESP  Europe & Central Asia  1995  32971000.0   \n",
              "63         France          FRA  Europe & Central Asia  1995  60033000.0   \n",
              "94          Italy          ITA  Europe & Central Asia  1995  31052000.0   \n",
              "58          Spain          ESP  Europe & Central Asia  1995  32971000.0   \n",
              "63         France          FRA  Europe & Central Asia  1995  60033000.0   \n",
              "...           ...          ...                    ...   ...         ...   \n",
              "4793       France          FRA  Europe & Central Asia  2017  86758000.0   \n",
              "4824        Italy          ITA  Europe & Central Asia  2017  58253000.0   \n",
              "5003        Spain          ESP  Europe & Central Asia  2018  82773000.0   \n",
              "5008       France          FRA  Europe & Central Asia  2018  89322000.0   \n",
              "5039        Italy          ITA  Europe & Central Asia  2018  61567200.0   \n",
              "\n",
              "     year_upto  \n",
              "58        1995  \n",
              "63        1995  \n",
              "94        1995  \n",
              "58        1996  \n",
              "63        1996  \n",
              "...        ...  \n",
              "4793      2018  \n",
              "4824      2018  \n",
              "5003      2018  \n",
              "5008      2018  \n",
              "5039      2018  \n",
              "\n",
              "[900 rows x 6 columns]"
            ]
          },
          "execution_count": 55,
          "metadata": {},
          "output_type": "execute_result"
        }
      ],
      "metadata": {
        "ExecuteTime": {
          "end_time": "2020-10-15T13:01:05.579548Z",
          "start_time": "2020-10-15T13:01:05.549597Z"
        }
      }
    },
    {
      "id": "303efe3f-0b89-4445-9dbd-00d56ff54418",
      "cell_type": "markdown",
      "source": [
        "## Animated Bar Chart"
      ],
      "outputs": [],
      "metadata": {}
    },
    {
      "id": "06033927-5e44-4d51-9bb0-f108610f1ebf",
      "cell_type": "code",
      "source": [
        "data = []\n",
        "for y in melted_df[\"years\"].unique():\n",
        "    sub_df = melted_df[melted_df[\"years\"]==y].sort_values(by=\"visitors\", ascending=False)[:10]\n",
        "    data.append(sub_df)\n",
        "\n",
        "fig = px.bar(pd.concat(data).sort_values(by=\"visitors\", ascending=True), \n",
        "             y=\"Country Name\", x=\"visitors\", \n",
        "             orientation=\"h\", animation_frame=\"years\",\n",
        "            title=\"Evolution of Tourism\",\n",
        "            text=\"visitors\")\n",
        "fig.update_layout(xaxis={\"range\":[0,100000000]},\n",
        "                 yaxis={\"title\":{\"standoff\":150}, \"tickwidth\": 200, \"automargin\": True})\n",
        "                  #yaxis={\"title\":{\"standoff\":150}, \"ticklen\": 200, \"automargin\": False})\n",
        "fig.update_traces(texttemplate='%{text:.2s}', \n",
        "                  textposition=\"outside\"\n",
        "                 )"
      ],
      "outputs": [],
      "metadata": {
        "ExecuteTime": {
          "end_time": "2020-10-15T13:01:05.767017Z",
          "start_time": "2020-10-15T13:01:05.580514Z"
        }
      }
    },
    {
      "id": "211d73de-7c93-4c35-9c50-983fb60f5142",
      "cell_type": "markdown",
      "source": [
        "# Histograms\n",
        "There's separater article and notebook going into the details of the Plotly Express histograms. \n",
        "\n",
        "* Article: https://towardsdatascience.com/histograms-with-plotly-express-complete-guide-d483656c5ad7\n",
        "* Notebook: https://github.com/vaclavdekanovsky/data-analysis-in-examples/blob/master/Vizualizations/Plotly/Histogram/Histograms.ipynb"
      ],
      "outputs": [],
      "metadata": {}
    },
    {
      "id": "973a506e-4caf-4621-823b-2a9b334761ac",
      "cell_type": "markdown",
      "source": [
        "# Pie Chart"
      ],
      "outputs": [],
      "metadata": {}
    },
    {
      "id": "4e6ae326-958b-4490-b330-45cc8043fadf",
      "cell_type": "code",
      "source": [
        "fig = px.pie(arr_2018.sort_values(by=\"visitors\", ascending=False), \n",
        "             values=\"visitors\", \n",
        "             names=\"2018_name\",\n",
        "             # rename the label on the hover\n",
        "             labels={'2018_name':'country'},\n",
        "            title=\"2018 visitors\")\n",
        "fig.update_traces(textposition='inside', textinfo='percent+value+label')\n",
        "fig.update_traces(pull=[.3,.2,.1])"
      ],
      "outputs": [],
      "metadata": {
        "ExecuteTime": {
          "end_time": "2020-10-15T13:01:05.828880Z",
          "start_time": "2020-10-15T13:01:05.768014Z"
        }
      }
    },
    {
      "id": "6ea3ab1b-d299-42be-9b9e-56799f723ab7",
      "cell_type": "markdown",
      "source": [
        "## Donnut chart - pie with hole"
      ],
      "outputs": [],
      "metadata": {
        "ExecuteTime": {
          "end_time": "2020-08-31T18:30:59.330985Z",
          "start_time": "2020-08-31T18:30:59.327992Z"
        }
      }
    },
    {
      "id": "3662a675-00c9-4871-b476-9f07f8c71f1f",
      "cell_type": "code",
      "source": [
        "fig = px.pie(arr_2018.sort_values(by=\"visitors\", ascending=False)[:10], \n",
        "             values=\"visitors\", \n",
        "             names=\"2018_name\",\n",
        "             # rename the label on the hover\n",
        "             labels={'2018_name':'country'},\n",
        "            title=\"2018 visitors\",\n",
        "            hole=.3)\n",
        "fig.update_traces(textposition='inside', textinfo='percent+label')"
      ],
      "outputs": [],
      "metadata": {
        "ExecuteTime": {
          "end_time": "2020-10-15T13:01:05.874759Z",
          "start_time": "2020-10-15T13:01:05.829849Z"
        }
      }
    },
    {
      "id": "5bb50ce0-e397-4dbe-aed5-e10859a8cf0c",
      "cell_type": "markdown",
      "source": [
        "# Sunburts plot"
      ],
      "outputs": [],
      "metadata": {
        "ExecuteTime": {
          "end_time": "2020-08-31T18:34:51.251009Z",
          "start_time": "2020-08-31T18:34:51.247020Z"
        }
      }
    },
    {
      "id": "d5270f4b-7772-4c71-9d9c-6dbb1584582c",
      "cell_type": "code",
      "source": [
        "chart_df = arr_2018.sort_values(by=\"visitors\", ascending=False)[:10]\n",
        "chart_df[\"visitors\"] = round(chart_df[\"visitors\"]/10000000)\n",
        "chart_df[\"visitors\"] = chart_df[\"visitors\"].astype(int)\n",
        "fig = px.sunburst(\n",
        "    chart_df,\n",
        "    path=['Region', '2018_name'],\n",
        "    values='visitors',\n",
        ")\n",
        "fig.show()"
      ],
      "outputs": [],
      "metadata": {
        "ExecuteTime": {
          "end_time": "2020-10-15T13:01:05.983437Z",
          "start_time": "2020-10-15T13:01:05.875726Z"
        }
      }
    },
    {
      "id": "fce4c4de-e385-4870-a54c-ae06b49b62b1",
      "cell_type": "markdown",
      "source": [
        "# Treemap"
      ],
      "outputs": [],
      "metadata": {
        "ExecuteTime": {
          "end_time": "2020-08-31T19:11:25.877989Z",
          "start_time": "2020-08-31T19:11:25.873994Z"
        }
      }
    },
    {
      "id": "1ef205fb-6fd4-4f04-aff7-77991b980978",
      "cell_type": "code",
      "source": [
        "fig = px.treemap(arr_2018.sort_values(by=\"visitors\", ascending=False)[:50], \n",
        "             values=\"visitors\", \n",
        "             path=['Region', 'Country Name'],\n",
        "             color=\"visitors\",\n",
        "            title=\"2018 visitors (top 50 countries)\",\n",
        "            color_continuous_scale='RdBu',\n",
        "            #color_continuous_midpoint=20000000\n",
        "           )\n",
        "fig.show()"
      ],
      "outputs": [],
      "metadata": {
        "ExecuteTime": {
          "end_time": "2020-10-15T13:01:06.125060Z",
          "start_time": "2020-10-15T13:01:05.984435Z"
        }
      }
    },
    {
      "id": "adeb0c10-85cb-4a7b-bd23-77213dadae46",
      "cell_type": "code",
      "source": [
        "fig = px.treemap(arr_2018.sort_values(by=\"visitors\", ascending=False)[:50], \n",
        "            values=\"visitors\", \n",
        "            path=['Region', 'Country Name'],\n",
        "            color=\"Region\",\n",
        "            title=\"2018 visitors (top 50 countries)\",\n",
        "            hover_data={\"Region\":False},\n",
        "            labels={'labels':'Country'},\n",
        "           )\n",
        "fig.show()"
      ],
      "outputs": [],
      "metadata": {
        "ExecuteTime": {
          "end_time": "2020-10-15T13:01:06.201854Z",
          "start_time": "2020-10-15T13:01:06.127053Z"
        }
      }
    },
    {
      "id": "825ebfdc-c093-45c5-a174-8762ce4bbaef",
      "cell_type": "markdown",
      "source": [
        "# Chropleth\n",
        "Working with the geospacial data, especially on the country level is easy with plotly. "
      ],
      "outputs": [],
      "metadata": {
        "ExecuteTime": {
          "end_time": "2020-08-31T19:30:15.447221Z",
          "start_time": "2020-08-31T19:30:15.444229Z"
        }
      }
    },
    {
      "id": "5b456fcf-08af-4182-b5f9-d0b9e283b948",
      "cell_type": "code",
      "source": [
        "fig = px.choropleth(\n",
        "    arr_2018, \n",
        "    locations=\"Country Code\",                    \n",
        "    color=\"visitors\",\n",
        "    hover_name=\"Country Name\", # column to add to hover information\n",
        "    color_continuous_scale=px.colors.sequential.matter)\n",
        "fig.show()"
      ],
      "outputs": [],
      "metadata": {
        "ExecuteTime": {
          "end_time": "2020-10-15T13:01:06.295618Z",
          "start_time": "2020-10-15T13:01:06.202852Z"
        }
      }
    },
    {
      "id": "897b0c85-87b2-4be5-85ea-9dd343f74b3c",
      "cell_type": "markdown",
      "source": [
        "zoom in with `scope`"
      ],
      "outputs": [],
      "metadata": {}
    },
    {
      "id": "6a0d9f20-3a44-4217-9ea2-0b56edd32eb0",
      "cell_type": "code",
      "source": [
        "fig = px.choropleth(arr_2018, locations=\"Country Code\",\n",
        "                    color=\"visitors\", # lifeExp is a column of gapminder\n",
        "                    hover_name=\"Country Name\", # column to add to hover information\n",
        "                    color_continuous_scale=px.colors.sequential.matter,\n",
        "                   scope=\"south america\"\n",
        "                   )          \n",
        "fig.show()"
      ],
      "outputs": [],
      "metadata": {
        "ExecuteTime": {
          "end_time": "2020-10-15T13:01:06.343475Z",
          "start_time": "2020-10-15T13:01:06.296602Z"
        }
      }
    },
    {
      "id": "e5a72b69-1a9b-42ca-8c9e-830597e78433",
      "cell_type": "markdown",
      "source": [
        "# Scatterplot\n",
        "## World map with scatter_geo"
      ],
      "outputs": [],
      "metadata": {
        "ExecuteTime": {
          "end_time": "2020-08-31T20:15:58.843986Z",
          "start_time": "2020-08-31T20:15:58.840986Z"
        }
      }
    },
    {
      "id": "86b95c70-fddd-480a-9544-2077e30bb62c",
      "cell_type": "code",
      "source": [
        "fig = px.scatter_geo(\n",
        "    melted_df.fillna(0), \n",
        "    locations =\"Country Code\", \n",
        "    color=\"visitors\",\n",
        "    size=\"visitors\",\n",
        "    # what is the size of the biggest scatter point\n",
        "    size_max = 30,\n",
        "    projection=\"natural earth\",\n",
        "    # range, important to keep the same range on all charts\n",
        "    range_color=(0, 100000000),\n",
        "    # columns which is in bold in the pop up\n",
        "    hover_name = \"Country Name\",\n",
        "    # format of the popup not to display these columns' data\n",
        "    hover_data = {\"Country Name\":False, \"Country Code\": False},\n",
        "    title=\"International Tourism\",\n",
        "    animation_frame=\"years\"\n",
        "                     )\n",
        "fig.update_geos(showcountries = True)\n",
        "fig.show()"
      ],
      "outputs": [],
      "metadata": {
        "ExecuteTime": {
          "end_time": "2020-10-15T13:01:06.658632Z",
          "start_time": "2020-10-15T13:01:06.344473Z"
        }
      }
    },
    {
      "id": "f8943de7-83aa-499b-96c2-d1f716aa9e6e",
      "cell_type": "markdown",
      "source": [
        "To get some relations into the data, let's combine the number of visitors with the income these visitors have brought to the countries. In this case, I will join melted receipts to metled visitors to have two columns with data. These can be assigned to `x` and `y` of the plot."
      ],
      "outputs": [],
      "metadata": {}
    },
    {
      "id": "f1d1991b-28af-4ceb-afb1-b9bde9f72741",
      "cell_type": "code",
      "source": [
        "year_receipts = pd.read_pickle(\"../Preprocess/rec.plk\")\n",
        "melted_receipts = year_receipts.melt(id_vars=[\"Country Name\",\"Country Code\"], \n",
        "                              var_name=\"years\",\n",
        "                             value_name=\"receipts\")\n",
        "scatter_df = melted_df.merge(melted_receipts, on=[\"Country Name\",\"Country Code\",\"years\"]).fillna(0)\n",
        "scatter_df.sample(3)"
      ],
      "outputs": [
        {
          "data": {
            "text/html": [
              "<div>\n",
              "<style scoped>\n",
              "    .dataframe tbody tr th:only-of-type {\n",
              "        vertical-align: middle;\n",
              "    }\n",
              "\n",
              "    .dataframe tbody tr th {\n",
              "        vertical-align: top;\n",
              "    }\n",
              "\n",
              "    .dataframe thead th {\n",
              "        text-align: right;\n",
              "    }\n",
              "</style>\n",
              "<table border=\"1\" class=\"dataframe\">\n",
              "  <thead>\n",
              "    <tr style=\"text-align: right;\">\n",
              "      <th></th>\n",
              "      <th>Country Name</th>\n",
              "      <th>Country Code</th>\n",
              "      <th>Region</th>\n",
              "      <th>years</th>\n",
              "      <th>visitors</th>\n",
              "      <th>receipts</th>\n",
              "    </tr>\n",
              "  </thead>\n",
              "  <tbody>\n",
              "    <tr>\n",
              "      <th>3900</th>\n",
              "      <td>Botswana</td>\n",
              "      <td>BWA</td>\n",
              "      <td>Sub-Saharan Africa</td>\n",
              "      <td>2013</td>\n",
              "      <td>1544000.0</td>\n",
              "      <td>484200000.0</td>\n",
              "    </tr>\n",
              "    <tr>\n",
              "      <th>22</th>\n",
              "      <td>Belarus</td>\n",
              "      <td>BLR</td>\n",
              "      <td>Europe &amp; Central Asia</td>\n",
              "      <td>1995</td>\n",
              "      <td>160600.0</td>\n",
              "      <td>28000000.0</td>\n",
              "    </tr>\n",
              "    <tr>\n",
              "      <th>600</th>\n",
              "      <td>Solomon Islands</td>\n",
              "      <td>SLB</td>\n",
              "      <td>East Asia &amp; Pacific</td>\n",
              "      <td>1997</td>\n",
              "      <td>13800.0</td>\n",
              "      <td>9700000.0</td>\n",
              "    </tr>\n",
              "  </tbody>\n",
              "</table>\n",
              "</div>"
            ],
            "text/plain": [
              "         Country Name Country Code                 Region years   visitors  \\\n",
              "3900         Botswana          BWA     Sub-Saharan Africa  2013  1544000.0   \n",
              "22            Belarus          BLR  Europe & Central Asia  1995   160600.0   \n",
              "600   Solomon Islands          SLB    East Asia & Pacific  1997    13800.0   \n",
              "\n",
              "         receipts  \n",
              "3900  484200000.0  \n",
              "22     28000000.0  \n",
              "600     9700000.0  "
            ]
          },
          "execution_count": 65,
          "metadata": {},
          "output_type": "execute_result"
        }
      ],
      "metadata": {
        "ExecuteTime": {
          "end_time": "2020-10-15T13:01:06.689580Z",
          "start_time": "2020-10-15T13:01:06.659631Z"
        }
      }
    },
    {
      "id": "28a95403-856b-4939-8608-1f708e995ada",
      "cell_type": "code",
      "source": [
        "px.scatter(scatter_df[scatter_df[\"years\"]==\"2018\"],\n",
        "          x=\"visitors\",\n",
        "          y=\"receipts\",\n",
        "          color=\"Region\",\n",
        "          hover_name=\"Country Name\",\n",
        "          size=\"receipts\")"
      ],
      "outputs": [],
      "metadata": {
        "ExecuteTime": {
          "end_time": "2020-10-15T13:01:06.784297Z",
          "start_time": "2020-10-15T13:01:06.690548Z"
        }
      }
    },
    {
      "id": "ac2d2207-cfe7-4f56-86eb-52e372a0f21e",
      "cell_type": "code",
      "source": [
        "px.scatter(scatter_df[scatter_df[\"years\"]==\"2018\"],\n",
        "          x=\"visitors\",\n",
        "          y=\"receipts\",\n",
        "          #color=\"Region\",\n",
        "          hover_name=\"Country Name\",\n",
        "          size=\"receipts\",\n",
        "          marginal_x=\"rug\",\n",
        "          marginal_y=\"violin\",\n",
        "          trendline=\"lowess\")"
      ],
      "outputs": [],
      "metadata": {
        "ExecuteTime": {
          "end_time": "2020-10-15T13:01:08.554940Z",
          "start_time": "2020-10-15T13:01:06.785294Z"
        }
      }
    },
    {
      "id": "4e4597bb-5c09-4775-b23d-be657f5258c5",
      "cell_type": "code",
      "source": [
        "two018 = scatter_df[scatter_df[\"years\"]==\"2018\"]\n",
        "two018[\"type\"] = np.where(two018[\"Region\"]==\"Europe & Central Asia\", \"European\", \"Outside\")\n",
        "fig = px.scatter(two018,\n",
        "          x=\"visitors\",\n",
        "          y=\"receipts\",\n",
        "          color=\"type\",\n",
        "          hover_name=\"Country Name\",\n",
        "          size=\"receipts\",\n",
        "          marginal_x=\"histogram\",\n",
        "          marginal_y=\"box\",\n",
        "          trendline=\"ols\",\n",
        "          title=\"Scatter plot with histogram and box marginal plot and two trendlines\")\n",
        "fig.show()"
      ],
      "outputs": [],
      "metadata": {}
    },
    {
      "id": "a7192ba9-e583-4ec8-a63b-54ba7c320b77",
      "cell_type": "markdown",
      "source": [
        "Print the regression parameters of the trendline. First get the values using get_trendline_results and then display them using statsmodels .summary() function."
      ],
      "outputs": [],
      "metadata": {}
    },
    {
      "id": "48bddc8c-6f4b-462c-afe3-0be43f969915",
      "cell_type": "code",
      "source": [
        "res = px.get_trendline_results(fig)\n",
        "european_trendline = res[res[\"type\"]==\"European\"][\"px_fit_results\"].iloc[0]\n",
        "print(type(european_trendline))"
      ],
      "outputs": [
        {
          "name": "stdout",
          "output_type": "stream",
          "text": [
            "<class 'statsmodels.regression.linear_model.RegressionResultsWrapper'>\n"
          ]
        }
      ],
      "metadata": {}
    },
    {
      "id": "c355bdcf-31e3-47e2-850f-fae00528db54",
      "cell_type": "code",
      "source": [
        "european_trendline.summary()"
      ],
      "outputs": [
        {
          "data": {
            "text/html": [
              "<table class=\"simpletable\">\n",
              "<caption>OLS Regression Results</caption>\n",
              "<tr>\n",
              "  <th>Dep. Variable:</th>            <td>y</td>        <th>  R-squared:         </th> <td>   0.903</td>\n",
              "</tr>\n",
              "<tr>\n",
              "  <th>Model:</th>                   <td>OLS</td>       <th>  Adj. R-squared:    </th> <td>   0.901</td>\n",
              "</tr>\n",
              "<tr>\n",
              "  <th>Method:</th>             <td>Least Squares</td>  <th>  F-statistic:       </th> <td>   500.8</td>\n",
              "</tr>\n",
              "<tr>\n",
              "  <th>Date:</th>             <td>Wed, 21 Oct 2020</td> <th>  Prob (F-statistic):</th> <td>5.46e-29</td>\n",
              "</tr>\n",
              "<tr>\n",
              "  <th>Time:</th>                 <td>21:24:27</td>     <th>  Log-Likelihood:    </th> <td> -1337.9</td>\n",
              "</tr>\n",
              "<tr>\n",
              "  <th>No. Observations:</th>      <td>    56</td>      <th>  AIC:               </th> <td>   2680.</td>\n",
              "</tr>\n",
              "<tr>\n",
              "  <th>Df Residuals:</th>          <td>    54</td>      <th>  BIC:               </th> <td>   2684.</td>\n",
              "</tr>\n",
              "<tr>\n",
              "  <th>Df Model:</th>              <td>     1</td>      <th>                     </th>     <td> </td>   \n",
              "</tr>\n",
              "<tr>\n",
              "  <th>Covariance Type:</th>      <td>nonrobust</td>    <th>                     </th>     <td> </td>   \n",
              "</tr>\n",
              "</table>\n",
              "<table class=\"simpletable\">\n",
              "<tr>\n",
              "    <td></td>       <th>coef</th>     <th>std err</th>      <th>t</th>      <th>P>|t|</th>  <th>[0.025</th>    <th>0.975]</th>  \n",
              "</tr>\n",
              "<tr>\n",
              "  <th>const</th> <td>-2.084e+07</td> <td> 9.39e+08</td> <td>   -0.022</td> <td> 0.982</td> <td> -1.9e+09</td> <td> 1.86e+09</td>\n",
              "</tr>\n",
              "<tr>\n",
              "  <th>x1</th>    <td>  921.7867</td> <td>   41.190</td> <td>   22.379</td> <td> 0.000</td> <td>  839.207</td> <td> 1004.367</td>\n",
              "</tr>\n",
              "</table>\n",
              "<table class=\"simpletable\">\n",
              "<tr>\n",
              "  <th>Omnibus:</th>       <td>31.241</td> <th>  Durbin-Watson:     </th> <td>   1.968</td>\n",
              "</tr>\n",
              "<tr>\n",
              "  <th>Prob(Omnibus):</th> <td> 0.000</td> <th>  Jarque-Bera (JB):  </th> <td>  78.847</td>\n",
              "</tr>\n",
              "<tr>\n",
              "  <th>Skew:</th>          <td> 1.610</td> <th>  Prob(JB):          </th> <td>7.56e-18</td>\n",
              "</tr>\n",
              "<tr>\n",
              "  <th>Kurtosis:</th>      <td> 7.840</td> <th>  Cond. No.          </th> <td>2.74e+07</td>\n",
              "</tr>\n",
              "</table><br/><br/>Warnings:<br/>[1] Standard Errors assume that the covariance matrix of the errors is correctly specified.<br/>[2] The condition number is large, 2.74e+07. This might indicate that there are<br/>strong multicollinearity or other numerical problems."
            ],
            "text/plain": [
              "<class 'statsmodels.iolib.summary.Summary'>\n",
              "\"\"\"\n",
              "                            OLS Regression Results                            \n",
              "==============================================================================\n",
              "Dep. Variable:                      y   R-squared:                       0.903\n",
              "Model:                            OLS   Adj. R-squared:                  0.901\n",
              "Method:                 Least Squares   F-statistic:                     500.8\n",
              "Date:                Wed, 21 Oct 2020   Prob (F-statistic):           5.46e-29\n",
              "Time:                        21:24:27   Log-Likelihood:                -1337.9\n",
              "No. Observations:                  56   AIC:                             2680.\n",
              "Df Residuals:                      54   BIC:                             2684.\n",
              "Df Model:                           1                                         \n",
              "Covariance Type:            nonrobust                                         \n",
              "==============================================================================\n",
              "                 coef    std err          t      P>|t|      [0.025      0.975]\n",
              "------------------------------------------------------------------------------\n",
              "const      -2.084e+07   9.39e+08     -0.022      0.982    -1.9e+09    1.86e+09\n",
              "x1           921.7867     41.190     22.379      0.000     839.207    1004.367\n",
              "==============================================================================\n",
              "Omnibus:                       31.241   Durbin-Watson:                   1.968\n",
              "Prob(Omnibus):                  0.000   Jarque-Bera (JB):               78.847\n",
              "Skew:                           1.610   Prob(JB):                     7.56e-18\n",
              "Kurtosis:                       7.840   Cond. No.                     2.74e+07\n",
              "==============================================================================\n",
              "\n",
              "Warnings:\n",
              "[1] Standard Errors assume that the covariance matrix of the errors is correctly specified.\n",
              "[2] The condition number is large, 2.74e+07. This might indicate that there are\n",
              "strong multicollinearity or other numerical problems.\n",
              "\"\"\""
            ]
          },
          "execution_count": 70,
          "metadata": {},
          "output_type": "execute_result"
        }
      ],
      "metadata": {}
    },
    {
      "id": "3e7fd461-d351-42d3-9626-9c3d54943657",
      "cell_type": "markdown",
      "source": [
        "## Histogram"
      ],
      "outputs": [],
      "metadata": {}
    },
    {
      "id": "c40d847a-c56f-46b0-a310-85b875c6ed54",
      "cell_type": "code",
      "source": [
        "px.histogram(arr_2018, x=\"visitors\")"
      ],
      "outputs": [],
      "metadata": {}
    },
    {
      "id": "8e96d2dd-ddc8-42f1-9b10-62e88f822063",
      "cell_type": "code",
      "source": [
        "# cumulative histogram adds on the top of previous bins\n",
        "px.histogram(arr_2018, x=\"visitors\", cumulative=True)"
      ],
      "outputs": [],
      "metadata": {}
    },
    {
      "id": "68a39a70-7cd4-4d69-9689-8c7f0c28427d",
      "cell_type": "code",
      "source": [
        "# nbins paramter influences the number of bins\n",
        "px.histogram(arr_2018, x=\"visitors\", nbins=5)"
      ],
      "outputs": [],
      "metadata": {}
    },
    {
      "id": "51a3149f-14d4-494b-8455-1159b6769705",
      "cell_type": "markdown",
      "source": [
        "### Histnorm\n",
        "Histnorm parameter basically influence the look of the y-axis (x-axis if vertical histogram). It can be:\n",
        "\n",
        "* `None` - histogram shows the aggregated values (most often it's count)\n",
        "* `percent` - axis shows values 0-100 showing number of percent in the bin\n",
        "* `probability` - axis show values 0-1 displaying the probability that the value appear in the bin\n",
        "* `density` - the output of histfunc for a given bin is divided by the size of the bin\n",
        "* `probability density` - he output of histfunc for a given bin is normalized such that it corresponds to the probability that a random event whose distribution is described by the output of histfunc will fall into that bin\n"
      ],
      "outputs": [],
      "metadata": {}
    },
    {
      "id": "788c6ecb-77bd-473b-ac1a-c159c8f55898",
      "cell_type": "code",
      "source": [
        "# if histnorm percent is used, then the y-axis shows percent not total count\n",
        "px.histogram(arr_2018, x=\"visitors\", nbins=5, histnorm=\"percent\")"
      ],
      "outputs": [],
      "metadata": {}
    },
    {
      "id": "0c72ff55-d1fa-4c59-a4ae-83d38410e570",
      "cell_type": "code",
      "source": [
        "px.histogram(arr_2018, x=\"visitors\", nbins=5, histnorm=\"probability density\")"
      ],
      "outputs": [],
      "metadata": {}
    },
    {
      "id": "5f86599c-c512-4c27-8e66-26fc0afbaec7",
      "cell_type": "code",
      "source": [
        "# you can do several histograms together, eg. for several years. Let's first set up a data frame containing 3 years.\n",
        "arr_2016_18 = melted_df[melted_df[\"years\"].isin([\"2016\",\"2017\",\"2018\"])]"
      ],
      "outputs": [],
      "metadata": {}
    },
    {
      "id": "266cc6e3-ef09-4692-8360-f059e06f360c",
      "cell_type": "code",
      "source": [
        "# barnorm=\"percent\" shows the percent of the values which fall to the bin\n",
        "px.histogram(arr_2016_18, x=\"visitors\", color=\"years\", barmode=\"group\", barnorm=\"\", cumulative=False)"
      ],
      "outputs": [],
      "metadata": {}
    },
    {
      "id": "2626f40f-9669-472f-9bd7-d9e73032d286",
      "cell_type": "code",
      "source": [
        "# barnorm can be used in case we have several histograms. It shows how many percent fall into the particular bin in each category.\n",
        "# in our case we see that 0-5M visitors is split to 30% in 2018, 35% in 2017 and 35.5% in 2016.\n",
        "# since there was one country having 85M-90M visitors in 17' and 18' both occupy 50% of the bin\n",
        "px.histogram(arr_2016_18, x=\"visitors\", color=\"years\", barmode=\"group\", barnorm=\"percent\", cumulative=False)"
      ],
      "outputs": [],
      "metadata": {}
    },
    {
      "id": "c0f9e1f1-758d-4d4f-8021-dfbb1f8a50d9",
      "cell_type": "markdown",
      "source": [
        "### Marginal\n",
        "Similarly like the scatter plot, the histograms also allow quick creation of marginal chart. All four types are available `rug`, `box`, `violin`, or `histogram`."
      ],
      "outputs": [],
      "metadata": {}
    },
    {
      "id": "530a25cc-93e8-46c9-a517-34ea6bfa1c23",
      "cell_type": "code",
      "source": [
        "# barnorm=\"percent\" shows the percent of the values which fall to the bin\n",
        "px.histogram(arr_2016_18, x=\"visitors\", color=\"years\", barmode=\"stack\", marginal=\"violin\")"
      ],
      "outputs": [],
      "metadata": {}
    },
    {
      "id": "b6e91b6d-6c8b-4656-a344-ebd8529bb3ab",
      "cell_type": "markdown",
      "source": [
        "# Buttons"
      ],
      "outputs": [],
      "metadata": {}
    },
    {
      "id": "c0cd73d3-cc09-4896-9c0c-fc3b69623f82",
      "cell_type": "code",
      "source": [
        "fig = px.bar(arr_2018.sort_values(by=\"visitors\", ascending=False)[:10], \n",
        "             y=\"Country Name\", x=\"visitors\", \n",
        "            title=\"Evolution of Tourism\",\n",
        "             color_discrete_sequence= [\"red\"],\n",
        "            text=\"visitors\")\n",
        "# Add dropdown\n",
        "fig.update_layout(\n",
        "    updatemenus=[\n",
        "        # a dropdown `direction=\"down\"`\n",
        "        # changing the color of the bars\n",
        "        dict(\n",
        "            buttons=list([\n",
        "                dict(\n",
        "                    args=[\"marker.color\",[\"red\"]],\n",
        "                    label=\"Red\",\n",
        "                    method=\"restyle\"\n",
        "                ),\n",
        "                dict(\n",
        "                    args=[\"marker.color\",[\"green\"]],\n",
        "                    label=\"Green\",\n",
        "                    method=\"restyle\"\n",
        "                ),\n",
        "                dict(\n",
        "                    args=[{\"marker.color\":[\"blur\"]}],\n",
        "                    label=\"Blue\",\n",
        "                    method=\"restyle\"\n",
        "                )\n",
        "            ]),\n",
        "            direction=\"down\",\n",
        "            pad={\"r\": 10, \"t\": 10},\n",
        "            showactive=True,\n",
        "            x=0.3,\n",
        "            xanchor=\"left\",\n",
        "            y=1.25,\n",
        "            yanchor=\"top\"\n",
        "        ),\n",
        "        # second set of buttons updating the position of the labels\n",
        "        dict(\n",
        "            buttons=list([\n",
        "                dict(\n",
        "                    args=[{\"textposition\":\"inside\"}],\n",
        "                    label=\"Inside\",\n",
        "                    method=\"restyle\")\n",
        "                ,\n",
        "                dict(\n",
        "                    args=[{\"textposition\":\"outside\"}],\n",
        "                    label=\"Outisde\",\n",
        "                    method=\"restyle\"\n",
        "                )\n",
        "            ]),\n",
        "            type = \"buttons\",\n",
        "            direction=\"left\",\n",
        "            pad={\"r\": 10, \"t\": 10},\n",
        "            showactive=True,\n",
        "            x=0.5,\n",
        "            xanchor=\"left\",\n",
        "            y=1.25,\n",
        "            yanchor=\"top\"\n",
        "        ),\n",
        "        # third set of buttons updating the text format of the labels\n",
        "        dict(\n",
        "            buttons=list([\n",
        "                {\n",
        "                    \"args\":[{'texttemplate': '%{text:.2s}'}],\n",
        "                    \"label\":\"million\",\n",
        "                    \"method\":\"restyle\"\n",
        "                },\n",
        "                {\n",
        "                \"args\":[{'texttemplate': '%{text:0.}'}],\n",
        "                    \"label\":\"full\",\n",
        "                    \"method\":\"restyle\"\n",
        "                }\n",
        "            ]),\n",
        "            type = \"buttons\",\n",
        "            direction=\"left\",\n",
        "            pad={\"r\": 10, \"t\": 10},\n",
        "            showactive=True,\n",
        "            x=0.5,\n",
        "            xanchor=\"left\",\n",
        "            y=1.15,\n",
        "            yanchor=\"top\"\n",
        "        )])\n",
        "\n",
        "fig.show()"
      ],
      "outputs": [],
      "metadata": {}
    },
    {
      "id": "44d0c820-fbc3-40aa-9525-dfe5bc2ecb58",
      "cell_type": "markdown",
      "source": [
        "\n",
        "### Positions and anchor of the buttons. "
      ],
      "outputs": [],
      "metadata": {}
    },
    {
      "id": "7f2fc14e-f581-4632-adc5-7ed7d351f483",
      "cell_type": "code",
      "source": [
        "df = arr_2018.sort_values(by=\"visitors\", ascending=False)\n",
        "\n",
        "fig = px.pie(df[:10], \n",
        "             values=\"visitors\", \n",
        "             names=\"2018_name\",\n",
        "             # rename the label on the hover\n",
        "             labels={'2018_name':'country'},\n",
        "             title=\"Buttons' positions and anchors\",\n",
        "             hole=.3)\n",
        "\n",
        "# click on x: left 0, y: top 0 to change to empty chart\n",
        "fig.update_layout(\n",
        "    updatemenus=[\n",
        "        # a dropdown `direction=\"down\"`\n",
        "        # changing the color of the bars\n",
        "        dict(\n",
        "            buttons=list([\n",
        "                dict(\n",
        "                    args=[{\"textinfo\":\"percent+value+label\"}],\n",
        "                    label=\"x:left 0, y:top 1\",\n",
        "                    method=\"restyle\"\n",
        "                )]),\n",
        "            \n",
        "            \n",
        "            type=\"buttons\",\n",
        "            showactive=False,\n",
        "            x=0,\n",
        "            xanchor=\"left\",\n",
        "            y=1,\n",
        "            yanchor=\"top\",\n",
        "            bgcolor=\"#39e\"\n",
        "        ),\n",
        "        dict(\n",
        "            buttons=list([\n",
        "                dict(\n",
        "                    args=[{\"textinfo\":\"percent+value\"}],\n",
        "                    label=\"x:left 0, y:bottom 1\",\n",
        "                    method=\"restyle\"\n",
        "                )]),\n",
        "            \n",
        "            \n",
        "            type=\"buttons\",\n",
        "            showactive=False,\n",
        "            x=0,\n",
        "            xanchor=\"left\",\n",
        "            y=1,\n",
        "            yanchor=\"bottom\",\n",
        "            bgcolor=\"#e93\"\n",
        "        ),\n",
        "        dict(\n",
        "            buttons=list([\n",
        "                dict(\n",
        "                    args=[{}],\n",
        "                    label=\"x:center 0, y:middle 0\",\n",
        "                    method=\"restyle\"\n",
        "                )]),\n",
        "            \n",
        "            \n",
        "            type=\"buttons\",\n",
        "            showactive=True,\n",
        "            x=0,\n",
        "            xanchor=\"center\",\n",
        "            y=0,\n",
        "            yanchor=\"middle\"\n",
        "        ),\n",
        "        dict(\n",
        "            buttons=list([\n",
        "                dict(\n",
        "                    args=[{\"type\":\"bar\", \n",
        "                           \"text\": np.array(df[\"visitors\"]), \n",
        "                           \"textposition\": \"auto\"}],\n",
        "                    label=\"x:right 0, y:bottom 0\",\n",
        "                    method=\"restyle\"\n",
        "                )]),\n",
        "            \n",
        "            \n",
        "            type=\"buttons\",\n",
        "            showactive=True,\n",
        "            x=0,\n",
        "            xanchor=\"right\",\n",
        "            y=0,\n",
        "            yanchor=\"bottom\"\n",
        "        ),\n",
        "        dict(\n",
        "            buttons=list([\n",
        "                dict(\n",
        "                    args=[{\"type\":\"bar\", \n",
        "                           \"marker.color\":\"violet\",\n",
        "                          \"x\": df[\"Country Name\"][:15].values,\n",
        "                          \"y\": df[\"visitors\"][:15].values,\n",
        "                          \"xaxis\":\"x\",\n",
        "                          \"yaxis\":\"y\"}],\n",
        "                    label=\"x:left 0, y:top 0\",\n",
        "                    method=\"restyle\"\n",
        "                )]),\n",
        "            \n",
        "            \n",
        "            type=\"buttons\",\n",
        "            showactive=True,\n",
        "            x=0,\n",
        "            xanchor=\"left\",\n",
        "            y=0,\n",
        "            yanchor=\"top\"\n",
        "        ),\n",
        "     dict(\n",
        "            buttons=list([\n",
        "                dict(\n",
        "                    args=[{}],\n",
        "                    label=\"x: center 1, y:middle 1\",\n",
        "                    method=\"restyle\"\n",
        "                )]),\n",
        "            \n",
        "            \n",
        "            type=\"buttons\",\n",
        "            showactive=True,\n",
        "            x=1,\n",
        "            xanchor=\"center\",\n",
        "            y=1,\n",
        "            yanchor=\"middle\"\n",
        "        ),\n",
        "    dict(\n",
        "            buttons=list([\n",
        "                dict(\n",
        "                    args=[{}],\n",
        "                    label=\"x:center 0.5, y:middle 1.3\",\n",
        "                    method=\"restyle\"\n",
        "                )]),\n",
        "            \n",
        "            \n",
        "            type=\"buttons\",\n",
        "            showactive=True,\n",
        "            x=0.5,\n",
        "            xanchor=\"center\",\n",
        "            y=1.1,\n",
        "            yanchor=\"middle\"\n",
        "        ),\n",
        "    dict(\n",
        "            buttons=list([\n",
        "                dict(\n",
        "                    args=[{\"xaxis.range\":[-2,10],\n",
        "                          \"yaxis.range\":[0,5.6]}],\n",
        "                    label=\"x:right 1, y:bottom 0 padded {'r': 10, 't': 10}\",\n",
        "                    method=\"relayout\",\n",
        "                    \n",
        "                )]),\n",
        "            \n",
        "            \n",
        "            type=\"buttons\",\n",
        "            showactive=True,\n",
        "            x=1,\n",
        "            xanchor=\"right\",\n",
        "            y=0,\n",
        "            yanchor=\"bottom\",\n",
        "        pad={\"r\": 10, \"t\": 10},\n",
        "        ),\n",
        "        # set of multiple buttons\n",
        "        dict(\n",
        "            buttons=list([\n",
        "                dict(\n",
        "                    args=[{}],\n",
        "                    label=\"x:right 1, y:bottom .5 button 1\",\n",
        "                    method=\"relayout\",\n",
        "                    \n",
        "                ),\n",
        "            dict(\n",
        "                    args=[{}],\n",
        "                    label=\"button 2\",\n",
        "                    method=\"relayout\",\n",
        "                    \n",
        "                )]),\n",
        "            \n",
        "            direction=\"left\",\n",
        "            type=\"buttons\",\n",
        "            showactive=True,\n",
        "            x=1,\n",
        "            xanchor=\"right\",\n",
        "            y=0.5,\n",
        "            yanchor=\"bottom\",\n",
        "        \n",
        "        )\n",
        "    ])\n",
        "\n",
        "fig.show()"
      ],
      "outputs": [],
      "metadata": {}
    },
    {
      "id": "c05fb54a-13a4-4618-84a6-c94a1e25e831",
      "cell_type": "markdown",
      "source": [
        "# Common issues\n",
        "As have already see some of the issues. Plotly can filter our dataset to display only relevant columns - e.g. only years when we have years and descriptive columns. That is perfect. On the other hand, sometimes it's annoying when you want to display only the grids at your date or int values, when plotly introduces extra data points and sort them in numerical order."
      ],
      "outputs": [],
      "metadata": {}
    },
    {
      "id": "c7ed55f1-156b-4c28-971d-0cccec6ad6a9",
      "cell_type": "code",
      "source": [
        "# if you want to display which values are the most frequent and these values are integres\n",
        "df = pd.DataFrame({\"x\": [3]*10+[6]*5+[2]*1})\n",
        "df[\"x\"].value_counts().plot(kind=\"bar\")"
      ],
      "outputs": [],
      "metadata": {}
    },
    {
      "id": "a7d9ffc6-9a72-400f-af94-b7c8056b4b60",
      "cell_type": "code",
      "source": [
        "# it's rather imposible with plotly which always set up the range containing all the numerical values\n",
        "fig = px.bar(df[\"x\"].value_counts())\n",
        "fig.show()"
      ],
      "outputs": [],
      "metadata": {}
    },
    {
      "id": "33e2d19c-fa1f-4265-99ec-95962d73cfd2",
      "cell_type": "code",
      "source": [
        "fig.update_xaxes(type='category')\n",
        "fig.show()"
      ],
      "outputs": [],
      "metadata": {}
    },
    {
      "id": "ce7ce660-3c47-4938-b904-b8b82f147b06",
      "cell_type": "code",
      "source": [
        "# Also the daterange labels on the x-axis can annoy you when you try to display end of the year/quarter dates. \n",
        "# Plotly will always turn them into the Jan next year or the beginning of the following quarter\n",
        "df = pd.DataFrame({\"x\":[\"2019-12-31\",\"2019-03-31\",\"2018-12-31\",\"2017-12-31\"],\n",
        "                   \"y\":[10,12, 15, 8]})\n",
        "fig = px.bar(df, x=\"x\", y=\"y\")\n",
        "fig.show()"
      ],
      "outputs": [],
      "metadata": {}
    },
    {
      "id": "02727d80-6082-4311-9793-72f52b429f15",
      "cell_type": "code",
      "source": [
        "# again the solution is to turn the axis into a category\n",
        "fig.update_xaxes(type='category')\n",
        "fig.show()"
      ],
      "outputs": [],
      "metadata": {}
    },
    {
      "id": "169cf9ef-8b3d-4139-9ef0-157139c8e56c",
      "cell_type": "code",
      "source": [
        "# Plotly also ignores invalid dates, once it decides the axis contain dates.\n",
        "df = pd.DataFrame({\"x\":[\"2019-12-31\",\"2018-12-31\",\"Ohter\"],\n",
        "                   \"y\":[10,12, 8]})\n",
        "fig = px.bar(df, x=\"x\", y=\"y\", color_discrete_sequence =[\"#ff914d\"])\n",
        "fig.update_xaxes(tickfont={\"size\":18})\n",
        "fig.show()"
      ],
      "outputs": [],
      "metadata": {}
    },
    {
      "id": "10207401-d4f0-4b72-8b43-2bb46df4f675",
      "cell_type": "code",
      "source": [
        "fig.update_xaxes(type='category')\n",
        "fig.show()"
      ],
      "outputs": [],
      "metadata": {}
    },
    {
      "id": "73bce55c-bf5e-4385-9a95-f70e0bb3528b",
      "cell_type": "markdown",
      "source": [
        "# Plotly as default pandas backend"
      ],
      "outputs": [],
      "metadata": {}
    },
    {
      "id": "815dc4a7-a386-4683-b127-f94bd3934434",
      "cell_type": "code",
      "source": [
        "pd.options.plotting.backend = \"plotly\""
      ],
      "outputs": [],
      "metadata": {}
    },
    {
      "id": "eb4392bf-a3d7-4c1d-a643-4083255018c0",
      "cell_type": "code",
      "source": [
        "fig = df.plot(kind=\"bar\", x=\"x\", y=\"y\", text=\"y\")\n",
        "fig.show()"
      ],
      "outputs": [],
      "metadata": {}
    },
    {
      "id": "1596d75a-7165-4fe9-86d7-14a60c5f223d",
      "cell_type": "code",
      "source": [
        "# return to defaul matplotlib backend\n",
        "pd.options.plotting.backend = \"matplotlib\""
      ],
      "outputs": [],
      "metadata": {}
    }
  ],
  "metadata": {
    "metadata": {
      "metadata": {
        "metadata": {
          "metadata": {
            "kernelspec": {
              "display_name": "Python 3",
              "language": "python",
              "name": "python3"
            },
            "language_info": {
              "codemirror_mode": {
                "name": "ipython",
                "version": 3
              },
              "file_extension": ".py",
              "mimetype": "text/x-python",
              "name": "python",
              "nbconvert_exporter": "python",
              "pygments_lexer": "ipython3",
              "version": "3.8.3"
            },
            "toc": {
              "base_numbering": 1,
              "nav_menu": {},
              "number_sections": true,
              "sideBar": true,
              "skip_h1_title": false,
              "title_cell": "Table of Contents",
              "title_sidebar": "Contents",
              "toc_cell": false,
              "toc_position": {},
              "toc_section_display": true,
              "toc_window_display": false
            },
            "varInspector": {
              "cols": {
                "lenName": 16,
                "lenType": 16,
                "lenVar": 40
              },
              "kernels_config": {
                "python": {
                  "delete_cmd_postfix": "",
                  "delete_cmd_prefix": "del ",
                  "library": "var_list.py",
                  "varRefreshCmd": "print(var_dic_list())"
                },
                "r": {
                  "delete_cmd_postfix": ") ",
                  "delete_cmd_prefix": "rm(",
                  "library": "var_list.r",
                  "varRefreshCmd": "cat(var_dic_list()) "
                }
              },
              "types_to_exclude": [
                "module",
                "function",
                "builtin_function_or_method",
                "instance",
                "_Feature"
              ],
              "window_display": false
            }
          }
        }
      }
    }
  },
  "nbformat": 4,
  "nbformat_minor": 4
}